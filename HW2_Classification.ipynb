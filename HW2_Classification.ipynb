{
 "cells": [
  {
   "cell_type": "markdown",
   "metadata": {
    "ExecuteTime": {
     "end_time": "2020-03-09T07:02:39.550710Z",
     "start_time": "2020-03-09T07:02:39.545197Z"
    },
    "colab_type": "text",
    "id": "R1ftgB0XIwIZ"
   },
   "source": [
    "# Results\n",
    "- Models used with hyperparameters \n",
    "- Best Model parameters \n",
    "- Mean Cross validation score of Best model\n",
    "- Test score of best model \n",
    "- Train score of best model "
   ]
  },
  {
   "cell_type": "markdown",
   "metadata": {},
   "source": [
    "Out of all the models,Voting classifier with XG Boost Classifier, Adaboost Classifier and Decision Tree Classifier works best with this dataset.\n",
    "\n",
    "        The best model parameter:\n",
    "           Voting Classifier parameters:  {'voting': [ 'hard' ]}\n",
    "\n",
    "         Best Mean Cross-validation score: 0.8489\n",
    "\n",
    "         Train Performance Score:  0.8926\n",
    "\n",
    "         Test Performance Score:  0.8555\n",
    "\n",
    "         train rmse: 0.3277\n",
    "\n",
    "         test rmse: 0.3801\n",
    "\n",
    " \n",
    " However a much more simpler model that gives a better cross validation score is  XGBoost Classifier\n",
    " \n",
    "         Best Cross validation Parameters: {'learning_rate': 0.2, 'max_depth': 6, 'min_child_weight': 7, 'n_estimators': 50, 'subsample': 0.9}\n",
    "\n",
    "        Best Mean Cross-validation score: 0.8527\n",
    "\n",
    "        Train Performance Score:  0.8851\n",
    "\n",
    "        Test Performance Score:  0.8222\n",
    "\n",
    "        train rmse: 0.3389\n",
    "\n",
    "        test rmse: 0.4082\n",
    "\n",
    "\n"
   ]
  },
  {
   "cell_type": "code",
   "execution_count": 1,
   "metadata": {
    "ExecuteTime": {
     "end_time": "2020-03-09T07:31:07.121601Z",
     "start_time": "2020-03-09T07:31:07.116586Z"
    },
    "colab": {},
    "colab_type": "code",
    "id": "QftUdme3IwIt"
   },
   "outputs": [],
   "source": [
    "import numpy as np\n",
    "import matplotlib.pyplot as plt\n",
    "import pandas as pd\n",
    "import seaborn as sns\n",
    "%matplotlib inline"
   ]
  },
  {
   "cell_type": "code",
   "execution_count": 2,
   "metadata": {
    "colab": {},
    "colab_type": "code",
    "id": "rP5n2hvCJrqn"
   },
   "outputs": [],
   "source": [
    "data = pd.read_csv(\"titanic.csv\")"
   ]
  },
  {
   "cell_type": "code",
   "execution_count": 3,
   "metadata": {
    "ExecuteTime": {
     "end_time": "2020-03-09T07:31:08.392767Z",
     "start_time": "2020-03-09T07:31:08.370710Z"
    },
    "colab": {
     "base_uri": "https://localhost:8080/",
     "height": 203
    },
    "colab_type": "code",
    "id": "gXOAWbPvIwJC",
    "outputId": "ff472619-32b7-42be-9a1f-ae6bb4afd84a"
   },
   "outputs": [
    {
     "data": {
      "text/html": [
       "<div>\n",
       "<style scoped>\n",
       "    .dataframe tbody tr th:only-of-type {\n",
       "        vertical-align: middle;\n",
       "    }\n",
       "\n",
       "    .dataframe tbody tr th {\n",
       "        vertical-align: top;\n",
       "    }\n",
       "\n",
       "    .dataframe thead th {\n",
       "        text-align: right;\n",
       "    }\n",
       "</style>\n",
       "<table border=\"1\" class=\"dataframe\">\n",
       "  <thead>\n",
       "    <tr style=\"text-align: right;\">\n",
       "      <th></th>\n",
       "      <th>PassengerId</th>\n",
       "      <th>Survived</th>\n",
       "      <th>Pclass</th>\n",
       "      <th>Name</th>\n",
       "      <th>Sex</th>\n",
       "      <th>Age</th>\n",
       "      <th>SibSp</th>\n",
       "      <th>Parch</th>\n",
       "      <th>Ticket</th>\n",
       "      <th>Fare</th>\n",
       "      <th>Cabin</th>\n",
       "      <th>Embarked</th>\n",
       "    </tr>\n",
       "  </thead>\n",
       "  <tbody>\n",
       "    <tr>\n",
       "      <th>0</th>\n",
       "      <td>1</td>\n",
       "      <td>0</td>\n",
       "      <td>3</td>\n",
       "      <td>Braund, Mr. Owen Harris</td>\n",
       "      <td>male</td>\n",
       "      <td>22.0</td>\n",
       "      <td>1</td>\n",
       "      <td>0</td>\n",
       "      <td>A/5 21171</td>\n",
       "      <td>7.2500</td>\n",
       "      <td>NaN</td>\n",
       "      <td>S</td>\n",
       "    </tr>\n",
       "    <tr>\n",
       "      <th>1</th>\n",
       "      <td>2</td>\n",
       "      <td>1</td>\n",
       "      <td>1</td>\n",
       "      <td>Cumings, Mrs. John Bradley (Florence Briggs Th...</td>\n",
       "      <td>female</td>\n",
       "      <td>38.0</td>\n",
       "      <td>1</td>\n",
       "      <td>0</td>\n",
       "      <td>PC 17599</td>\n",
       "      <td>71.2833</td>\n",
       "      <td>C85</td>\n",
       "      <td>C</td>\n",
       "    </tr>\n",
       "    <tr>\n",
       "      <th>2</th>\n",
       "      <td>3</td>\n",
       "      <td>1</td>\n",
       "      <td>3</td>\n",
       "      <td>Heikkinen, Miss. Laina</td>\n",
       "      <td>female</td>\n",
       "      <td>26.0</td>\n",
       "      <td>0</td>\n",
       "      <td>0</td>\n",
       "      <td>STON/O2. 3101282</td>\n",
       "      <td>7.9250</td>\n",
       "      <td>NaN</td>\n",
       "      <td>S</td>\n",
       "    </tr>\n",
       "    <tr>\n",
       "      <th>3</th>\n",
       "      <td>4</td>\n",
       "      <td>1</td>\n",
       "      <td>1</td>\n",
       "      <td>Futrelle, Mrs. Jacques Heath (Lily May Peel)</td>\n",
       "      <td>female</td>\n",
       "      <td>35.0</td>\n",
       "      <td>1</td>\n",
       "      <td>0</td>\n",
       "      <td>113803</td>\n",
       "      <td>53.1000</td>\n",
       "      <td>C123</td>\n",
       "      <td>S</td>\n",
       "    </tr>\n",
       "    <tr>\n",
       "      <th>4</th>\n",
       "      <td>5</td>\n",
       "      <td>0</td>\n",
       "      <td>3</td>\n",
       "      <td>Allen, Mr. William Henry</td>\n",
       "      <td>male</td>\n",
       "      <td>35.0</td>\n",
       "      <td>0</td>\n",
       "      <td>0</td>\n",
       "      <td>373450</td>\n",
       "      <td>8.0500</td>\n",
       "      <td>NaN</td>\n",
       "      <td>S</td>\n",
       "    </tr>\n",
       "  </tbody>\n",
       "</table>\n",
       "</div>"
      ],
      "text/plain": [
       "   PassengerId  Survived  Pclass  \\\n",
       "0            1         0       3   \n",
       "1            2         1       1   \n",
       "2            3         1       3   \n",
       "3            4         1       1   \n",
       "4            5         0       3   \n",
       "\n",
       "                                                Name     Sex   Age  SibSp  \\\n",
       "0                            Braund, Mr. Owen Harris    male  22.0      1   \n",
       "1  Cumings, Mrs. John Bradley (Florence Briggs Th...  female  38.0      1   \n",
       "2                             Heikkinen, Miss. Laina  female  26.0      0   \n",
       "3       Futrelle, Mrs. Jacques Heath (Lily May Peel)  female  35.0      1   \n",
       "4                           Allen, Mr. William Henry    male  35.0      0   \n",
       "\n",
       "   Parch            Ticket     Fare Cabin Embarked  \n",
       "0      0         A/5 21171   7.2500   NaN        S  \n",
       "1      0          PC 17599  71.2833   C85        C  \n",
       "2      0  STON/O2. 3101282   7.9250   NaN        S  \n",
       "3      0            113803  53.1000  C123        S  \n",
       "4      0            373450   8.0500   NaN        S  "
      ]
     },
     "execution_count": 3,
     "metadata": {},
     "output_type": "execute_result"
    }
   ],
   "source": [
    "data.head()"
   ]
  },
  {
   "cell_type": "code",
   "execution_count": 4,
   "metadata": {
    "ExecuteTime": {
     "end_time": "2020-03-09T07:31:10.124902Z",
     "start_time": "2020-03-09T07:31:10.117873Z"
    },
    "colab": {
     "base_uri": "https://localhost:8080/",
     "height": 316
    },
    "colab_type": "code",
    "id": "0Z9Q1FlLIwJU",
    "outputId": "dcbf8e02-e1f8-456c-a9cd-8096815a4f02"
   },
   "outputs": [
    {
     "name": "stdout",
     "output_type": "stream",
     "text": [
      "<class 'pandas.core.frame.DataFrame'>\n",
      "RangeIndex: 891 entries, 0 to 890\n",
      "Data columns (total 12 columns):\n",
      "PassengerId    891 non-null int64\n",
      "Survived       891 non-null int64\n",
      "Pclass         891 non-null int64\n",
      "Name           891 non-null object\n",
      "Sex            891 non-null object\n",
      "Age            714 non-null float64\n",
      "SibSp          891 non-null int64\n",
      "Parch          891 non-null int64\n",
      "Ticket         891 non-null object\n",
      "Fare           891 non-null float64\n",
      "Cabin          204 non-null object\n",
      "Embarked       889 non-null object\n",
      "dtypes: float64(2), int64(5), object(5)\n",
      "memory usage: 83.7+ KB\n"
     ]
    }
   ],
   "source": [
    "data.info()"
   ]
  },
  {
   "cell_type": "code",
   "execution_count": 5,
   "metadata": {
    "ExecuteTime": {
     "end_time": "2020-03-09T07:31:11.639431Z",
     "start_time": "2020-03-09T07:31:11.625391Z"
    },
    "colab": {
     "base_uri": "https://localhost:8080/",
     "height": 203
    },
    "colab_type": "code",
    "id": "WXT1yIS4IwJi",
    "outputId": "5ecd6f8d-b5d3-44f3-ffcd-aa4cb21f64b5"
   },
   "outputs": [
    {
     "data": {
      "text/html": [
       "<div>\n",
       "<style scoped>\n",
       "    .dataframe tbody tr th:only-of-type {\n",
       "        vertical-align: middle;\n",
       "    }\n",
       "\n",
       "    .dataframe tbody tr th {\n",
       "        vertical-align: top;\n",
       "    }\n",
       "\n",
       "    .dataframe thead th {\n",
       "        text-align: right;\n",
       "    }\n",
       "</style>\n",
       "<table border=\"1\" class=\"dataframe\">\n",
       "  <thead>\n",
       "    <tr style=\"text-align: right;\">\n",
       "      <th></th>\n",
       "      <th>PassengerId</th>\n",
       "      <th>Survived</th>\n",
       "      <th>Pclass</th>\n",
       "      <th>Name</th>\n",
       "      <th>Sex</th>\n",
       "      <th>Age</th>\n",
       "      <th>SibSp</th>\n",
       "      <th>Parch</th>\n",
       "      <th>Ticket</th>\n",
       "      <th>Fare</th>\n",
       "      <th>Cabin</th>\n",
       "      <th>Embarked</th>\n",
       "    </tr>\n",
       "  </thead>\n",
       "  <tbody>\n",
       "    <tr>\n",
       "      <th>0</th>\n",
       "      <td>1</td>\n",
       "      <td>0</td>\n",
       "      <td>3</td>\n",
       "      <td>Braund, Mr. Owen Harris</td>\n",
       "      <td>male</td>\n",
       "      <td>22.0</td>\n",
       "      <td>1</td>\n",
       "      <td>0</td>\n",
       "      <td>A/5 21171</td>\n",
       "      <td>7.2500</td>\n",
       "      <td>NaN</td>\n",
       "      <td>S</td>\n",
       "    </tr>\n",
       "    <tr>\n",
       "      <th>1</th>\n",
       "      <td>2</td>\n",
       "      <td>1</td>\n",
       "      <td>1</td>\n",
       "      <td>Cumings, Mrs. John Bradley (Florence Briggs Th...</td>\n",
       "      <td>female</td>\n",
       "      <td>38.0</td>\n",
       "      <td>1</td>\n",
       "      <td>0</td>\n",
       "      <td>PC 17599</td>\n",
       "      <td>71.2833</td>\n",
       "      <td>C85</td>\n",
       "      <td>C</td>\n",
       "    </tr>\n",
       "    <tr>\n",
       "      <th>2</th>\n",
       "      <td>3</td>\n",
       "      <td>1</td>\n",
       "      <td>3</td>\n",
       "      <td>Heikkinen, Miss. Laina</td>\n",
       "      <td>female</td>\n",
       "      <td>26.0</td>\n",
       "      <td>0</td>\n",
       "      <td>0</td>\n",
       "      <td>STON/O2. 3101282</td>\n",
       "      <td>7.9250</td>\n",
       "      <td>NaN</td>\n",
       "      <td>S</td>\n",
       "    </tr>\n",
       "    <tr>\n",
       "      <th>3</th>\n",
       "      <td>4</td>\n",
       "      <td>1</td>\n",
       "      <td>1</td>\n",
       "      <td>Futrelle, Mrs. Jacques Heath (Lily May Peel)</td>\n",
       "      <td>female</td>\n",
       "      <td>35.0</td>\n",
       "      <td>1</td>\n",
       "      <td>0</td>\n",
       "      <td>113803</td>\n",
       "      <td>53.1000</td>\n",
       "      <td>C123</td>\n",
       "      <td>S</td>\n",
       "    </tr>\n",
       "    <tr>\n",
       "      <th>4</th>\n",
       "      <td>5</td>\n",
       "      <td>0</td>\n",
       "      <td>3</td>\n",
       "      <td>Allen, Mr. William Henry</td>\n",
       "      <td>male</td>\n",
       "      <td>35.0</td>\n",
       "      <td>0</td>\n",
       "      <td>0</td>\n",
       "      <td>373450</td>\n",
       "      <td>8.0500</td>\n",
       "      <td>NaN</td>\n",
       "      <td>S</td>\n",
       "    </tr>\n",
       "  </tbody>\n",
       "</table>\n",
       "</div>"
      ],
      "text/plain": [
       "   PassengerId  Survived  Pclass  \\\n",
       "0            1         0       3   \n",
       "1            2         1       1   \n",
       "2            3         1       3   \n",
       "3            4         1       1   \n",
       "4            5         0       3   \n",
       "\n",
       "                                                Name     Sex   Age  SibSp  \\\n",
       "0                            Braund, Mr. Owen Harris    male  22.0      1   \n",
       "1  Cumings, Mrs. John Bradley (Florence Briggs Th...  female  38.0      1   \n",
       "2                             Heikkinen, Miss. Laina  female  26.0      0   \n",
       "3       Futrelle, Mrs. Jacques Heath (Lily May Peel)  female  35.0      1   \n",
       "4                           Allen, Mr. William Henry    male  35.0      0   \n",
       "\n",
       "   Parch            Ticket     Fare Cabin Embarked  \n",
       "0      0         A/5 21171   7.2500   NaN        S  \n",
       "1      0          PC 17599  71.2833   C85        C  \n",
       "2      0  STON/O2. 3101282   7.9250   NaN        S  \n",
       "3      0            113803  53.1000  C123        S  \n",
       "4      0            373450   8.0500   NaN        S  "
      ]
     },
     "execution_count": 5,
     "metadata": {},
     "output_type": "execute_result"
    }
   ],
   "source": [
    "data.head(5)"
   ]
  },
  {
   "cell_type": "code",
   "execution_count": 6,
   "metadata": {
    "ExecuteTime": {
     "end_time": "2020-03-09T07:31:14.669575Z",
     "start_time": "2020-03-09T07:31:14.655034Z"
    },
    "code_folding": [],
    "colab": {
     "base_uri": "https://localhost:8080/",
     "height": 756
    },
    "colab_type": "code",
    "id": "0TA7wc87IwJs",
    "outputId": "8ac7459a-a59d-4c98-e238-1c0d5b1a96b2"
   },
   "outputs": [
    {
     "name": "stdout",
     "output_type": "stream",
     "text": [
      "PassengerId [ 1  2  3  4  5  6  7  8  9 10 11 12 13 14 15 16 17 18 19 20] \n",
      "\n",
      "Survived [0 1] \n",
      "\n",
      "Pclass [3 1 2] \n",
      "\n",
      "Name ['Braund, Mr. Owen Harris'\n",
      " 'Cumings, Mrs. John Bradley (Florence Briggs Thayer)'\n",
      " 'Heikkinen, Miss. Laina' 'Futrelle, Mrs. Jacques Heath (Lily May Peel)'\n",
      " 'Allen, Mr. William Henry' 'Moran, Mr. James' 'McCarthy, Mr. Timothy J'\n",
      " 'Palsson, Master. Gosta Leonard'\n",
      " 'Johnson, Mrs. Oscar W (Elisabeth Vilhelmina Berg)'\n",
      " 'Nasser, Mrs. Nicholas (Adele Achem)' 'Sandstrom, Miss. Marguerite Rut'\n",
      " 'Bonnell, Miss. Elizabeth' 'Saundercock, Mr. William Henry'\n",
      " 'Andersson, Mr. Anders Johan' 'Vestrom, Miss. Hulda Amanda Adolfina'\n",
      " 'Hewlett, Mrs. (Mary D Kingcome) ' 'Rice, Master. Eugene'\n",
      " 'Williams, Mr. Charles Eugene'\n",
      " 'Vander Planke, Mrs. Julius (Emelia Maria Vandemoortele)'\n",
      " 'Masselmani, Mrs. Fatima'] \n",
      "\n",
      "Sex ['male' 'female'] \n",
      "\n",
      "Age [22. 38. 26. 35. nan 54.  2. 27. 14.  4. 58. 20. 39. 55. 31. 34. 15. 28.\n",
      "  8. 19.] \n",
      "\n",
      "SibSp [1 0 3 4 2 5 8] \n",
      "\n",
      "Parch [0 1 2 5 3 4 6] \n",
      "\n",
      "Ticket ['A/5 21171' 'PC 17599' 'STON/O2. 3101282' '113803' '373450' '330877'\n",
      " '17463' '349909' '347742' '237736' 'PP 9549' '113783' 'A/5. 2151'\n",
      " '347082' '350406' '248706' '382652' '244373' '345763' '2649'] \n",
      "\n",
      "Fare [ 7.25   71.2833  7.925  53.1     8.05    8.4583 51.8625 21.075  11.1333\n",
      " 30.0708 16.7    26.55   31.275   7.8542 16.     29.125  13.     18.\n",
      "  7.225  26.    ] \n",
      "\n",
      "Cabin [nan 'C85' 'C123' 'E46' 'G6' 'C103' 'D56' 'A6' 'C23 C25 C27' 'B78' 'D33'\n",
      " 'B30' 'C52' 'B28' 'C83' 'F33' 'F G73' 'E31' 'A5' 'D10 D12'] \n",
      "\n",
      "Embarked ['S' 'C' 'Q' nan] \n",
      "\n"
     ]
    }
   ],
   "source": [
    "# let's inspect the variable values\n",
    "\n",
    "for var in data.columns:\n",
    "    print(var, data[var].unique()[0:20], '\\n')"
   ]
  },
  {
   "cell_type": "code",
   "execution_count": 7,
   "metadata": {
    "ExecuteTime": {
     "end_time": "2020-03-09T07:31:16.385338Z",
     "start_time": "2020-03-09T07:31:16.372305Z"
    },
    "colab": {
     "base_uri": "https://localhost:8080/",
     "height": 87
    },
    "colab_type": "code",
    "id": "sq3eQQlDIwJy",
    "outputId": "6c7c3c3a-cee1-45f0-cde3-763e8c2f2226"
   },
   "outputs": [
    {
     "name": "stdout",
     "output_type": "stream",
     "text": [
      "There are 3 discrete variables\n",
      "There are 3 continuous variables\n",
      "There are 4 categorical variables\n",
      "There are 1 mixed variables\n"
     ]
    }
   ],
   "source": [
    "# make list of variables  types\n",
    "\n",
    "# numerical: discrete vs continuous\n",
    "discrete = [var for var in data.columns if data[var].dtype!='O' and var!='Survived' and data[var].nunique()<10]\n",
    "continuous = [var for var in data.columns if data[var].dtype!='O' and var!='Survived' and var not in discrete]\n",
    "\n",
    "# mixed\n",
    "mixed = ['Cabin']\n",
    "\n",
    "# categorical\n",
    "categorical = [var for var in data.columns if data[var].dtype=='O' and var not in mixed]\n",
    "\n",
    "print(f'There are {len(discrete)} discrete variables')\n",
    "print(f'There are {len(continuous)} continuous variables')\n",
    "print(f'There are {len(categorical)} categorical variables')\n",
    "print(f'There are {len(mixed)} mixed variables')"
   ]
  },
  {
   "cell_type": "code",
   "execution_count": 8,
   "metadata": {
    "ExecuteTime": {
     "end_time": "2020-03-09T07:31:19.229605Z",
     "start_time": "2020-03-09T07:31:19.220581Z"
    },
    "colab": {
     "base_uri": "https://localhost:8080/",
     "height": 246
    },
    "colab_type": "code",
    "id": "L_GhEkSEIwJ5",
    "outputId": "a362ca8d-2048-413d-8640-93bb6ff5bc3e"
   },
   "outputs": [
    {
     "data": {
      "text/plain": [
       "PassengerId    0.000000\n",
       "Survived       0.000000\n",
       "Pclass         0.000000\n",
       "Name           0.000000\n",
       "Sex            0.000000\n",
       "Age            0.198653\n",
       "SibSp          0.000000\n",
       "Parch          0.000000\n",
       "Ticket         0.000000\n",
       "Fare           0.000000\n",
       "Cabin          0.771044\n",
       "Embarked       0.002245\n",
       "dtype: float64"
      ]
     },
     "execution_count": 8,
     "metadata": {},
     "output_type": "execute_result"
    }
   ],
   "source": [
    "# missing values\n",
    "data.isnull().mean()"
   ]
  },
  {
   "cell_type": "code",
   "execution_count": 9,
   "metadata": {
    "ExecuteTime": {
     "end_time": "2020-03-09T07:31:21.025926Z",
     "start_time": "2020-03-09T07:31:21.013893Z"
    },
    "colab": {
     "base_uri": "https://localhost:8080/",
     "height": 123
    },
    "colab_type": "code",
    "id": "7UOHRJ0hIwJ-",
    "outputId": "003b64d5-07f2-432d-86c4-28f464bd5481"
   },
   "outputs": [
    {
     "data": {
      "text/plain": [
       "Name        891\n",
       "Sex           2\n",
       "Ticket      681\n",
       "Embarked      3\n",
       "Cabin       147\n",
       "dtype: int64"
      ]
     },
     "execution_count": 9,
     "metadata": {},
     "output_type": "execute_result"
    }
   ],
   "source": [
    "# cardinality (number of different categories)\n",
    "\n",
    "data[categorical+mixed].nunique()"
   ]
  },
  {
   "cell_type": "code",
   "execution_count": 10,
   "metadata": {
    "ExecuteTime": {
     "end_time": "2020-03-09T07:31:22.655777Z",
     "start_time": "2020-03-09T07:31:22.628203Z"
    },
    "colab": {
     "base_uri": "https://localhost:8080/",
     "height": 203
    },
    "colab_type": "code",
    "id": "0nnKZxlJIwKC",
    "outputId": "64292f4d-3e8d-42d5-ba00-54d85edadefb"
   },
   "outputs": [
    {
     "data": {
      "text/html": [
       "<div>\n",
       "<style scoped>\n",
       "    .dataframe tbody tr th:only-of-type {\n",
       "        vertical-align: middle;\n",
       "    }\n",
       "\n",
       "    .dataframe tbody tr th {\n",
       "        vertical-align: top;\n",
       "    }\n",
       "\n",
       "    .dataframe thead th {\n",
       "        text-align: right;\n",
       "    }\n",
       "</style>\n",
       "<table border=\"1\" class=\"dataframe\">\n",
       "  <thead>\n",
       "    <tr style=\"text-align: right;\">\n",
       "      <th></th>\n",
       "      <th>PassengerId</th>\n",
       "      <th>Survived</th>\n",
       "      <th>Pclass</th>\n",
       "      <th>Name</th>\n",
       "      <th>Sex</th>\n",
       "      <th>Age</th>\n",
       "      <th>SibSp</th>\n",
       "      <th>Parch</th>\n",
       "      <th>Ticket</th>\n",
       "      <th>Fare</th>\n",
       "      <th>Cabin</th>\n",
       "      <th>Embarked</th>\n",
       "      <th>Cabin_num</th>\n",
       "      <th>Cabin_cat</th>\n",
       "    </tr>\n",
       "  </thead>\n",
       "  <tbody>\n",
       "    <tr>\n",
       "      <th>0</th>\n",
       "      <td>1</td>\n",
       "      <td>0</td>\n",
       "      <td>3</td>\n",
       "      <td>Braund, Mr. Owen Harris</td>\n",
       "      <td>male</td>\n",
       "      <td>22.0</td>\n",
       "      <td>1</td>\n",
       "      <td>0</td>\n",
       "      <td>A/5 21171</td>\n",
       "      <td>7.2500</td>\n",
       "      <td>NaN</td>\n",
       "      <td>S</td>\n",
       "      <td>NaN</td>\n",
       "      <td>NaN</td>\n",
       "    </tr>\n",
       "    <tr>\n",
       "      <th>1</th>\n",
       "      <td>2</td>\n",
       "      <td>1</td>\n",
       "      <td>1</td>\n",
       "      <td>Cumings, Mrs. John Bradley (Florence Briggs Th...</td>\n",
       "      <td>female</td>\n",
       "      <td>38.0</td>\n",
       "      <td>1</td>\n",
       "      <td>0</td>\n",
       "      <td>PC 17599</td>\n",
       "      <td>71.2833</td>\n",
       "      <td>C85</td>\n",
       "      <td>C</td>\n",
       "      <td>85.0</td>\n",
       "      <td>C</td>\n",
       "    </tr>\n",
       "    <tr>\n",
       "      <th>2</th>\n",
       "      <td>3</td>\n",
       "      <td>1</td>\n",
       "      <td>3</td>\n",
       "      <td>Heikkinen, Miss. Laina</td>\n",
       "      <td>female</td>\n",
       "      <td>26.0</td>\n",
       "      <td>0</td>\n",
       "      <td>0</td>\n",
       "      <td>STON/O2. 3101282</td>\n",
       "      <td>7.9250</td>\n",
       "      <td>NaN</td>\n",
       "      <td>S</td>\n",
       "      <td>NaN</td>\n",
       "      <td>NaN</td>\n",
       "    </tr>\n",
       "    <tr>\n",
       "      <th>3</th>\n",
       "      <td>4</td>\n",
       "      <td>1</td>\n",
       "      <td>1</td>\n",
       "      <td>Futrelle, Mrs. Jacques Heath (Lily May Peel)</td>\n",
       "      <td>female</td>\n",
       "      <td>35.0</td>\n",
       "      <td>1</td>\n",
       "      <td>0</td>\n",
       "      <td>113803</td>\n",
       "      <td>53.1000</td>\n",
       "      <td>C123</td>\n",
       "      <td>S</td>\n",
       "      <td>123.0</td>\n",
       "      <td>C</td>\n",
       "    </tr>\n",
       "    <tr>\n",
       "      <th>4</th>\n",
       "      <td>5</td>\n",
       "      <td>0</td>\n",
       "      <td>3</td>\n",
       "      <td>Allen, Mr. William Henry</td>\n",
       "      <td>male</td>\n",
       "      <td>35.0</td>\n",
       "      <td>0</td>\n",
       "      <td>0</td>\n",
       "      <td>373450</td>\n",
       "      <td>8.0500</td>\n",
       "      <td>NaN</td>\n",
       "      <td>S</td>\n",
       "      <td>NaN</td>\n",
       "      <td>NaN</td>\n",
       "    </tr>\n",
       "  </tbody>\n",
       "</table>\n",
       "</div>"
      ],
      "text/plain": [
       "   PassengerId  Survived  Pclass  \\\n",
       "0            1         0       3   \n",
       "1            2         1       1   \n",
       "2            3         1       3   \n",
       "3            4         1       1   \n",
       "4            5         0       3   \n",
       "\n",
       "                                                Name     Sex   Age  SibSp  \\\n",
       "0                            Braund, Mr. Owen Harris    male  22.0      1   \n",
       "1  Cumings, Mrs. John Bradley (Florence Briggs Th...  female  38.0      1   \n",
       "2                             Heikkinen, Miss. Laina  female  26.0      0   \n",
       "3       Futrelle, Mrs. Jacques Heath (Lily May Peel)  female  35.0      1   \n",
       "4                           Allen, Mr. William Henry    male  35.0      0   \n",
       "\n",
       "   Parch            Ticket     Fare Cabin Embarked  Cabin_num Cabin_cat  \n",
       "0      0         A/5 21171   7.2500   NaN        S        NaN       NaN  \n",
       "1      0          PC 17599  71.2833   C85        C       85.0         C  \n",
       "2      0  STON/O2. 3101282   7.9250   NaN        S        NaN       NaN  \n",
       "3      0            113803  53.1000  C123        S      123.0         C  \n",
       "4      0            373450   8.0500   NaN        S        NaN       NaN  "
      ]
     },
     "execution_count": 10,
     "metadata": {},
     "output_type": "execute_result"
    }
   ],
   "source": [
    "# Cabin- mixed variable\n",
    "# \\d regular expression for digts . \\d+ one or more digits\n",
    "data['Cabin_num'] = data['Cabin'].str.extract('(\\d+)') # captures numerical part\n",
    "data['Cabin_num'] = data['Cabin_num'].astype('float')\n",
    "data['Cabin_cat'] = data['Cabin'].str[0] # captures the first letter\n",
    "\n",
    "# show dataframe\n",
    "data.head()"
   ]
  },
  {
   "cell_type": "code",
   "execution_count": 11,
   "metadata": {
    "ExecuteTime": {
     "end_time": "2020-03-09T07:31:24.271498Z",
     "start_time": "2020-03-09T07:31:24.238908Z"
    },
    "colab": {
     "base_uri": "https://localhost:8080/",
     "height": 203
    },
    "colab_type": "code",
    "id": "aXc1qsllIwKH",
    "outputId": "b2c14b27-eab2-492e-8c4f-20f3d98e182b"
   },
   "outputs": [
    {
     "data": {
      "text/html": [
       "<div>\n",
       "<style scoped>\n",
       "    .dataframe tbody tr th:only-of-type {\n",
       "        vertical-align: middle;\n",
       "    }\n",
       "\n",
       "    .dataframe tbody tr th {\n",
       "        vertical-align: top;\n",
       "    }\n",
       "\n",
       "    .dataframe thead th {\n",
       "        text-align: right;\n",
       "    }\n",
       "</style>\n",
       "<table border=\"1\" class=\"dataframe\">\n",
       "  <thead>\n",
       "    <tr style=\"text-align: right;\">\n",
       "      <th></th>\n",
       "      <th>PassengerId</th>\n",
       "      <th>Survived</th>\n",
       "      <th>Pclass</th>\n",
       "      <th>Name</th>\n",
       "      <th>Sex</th>\n",
       "      <th>Age</th>\n",
       "      <th>SibSp</th>\n",
       "      <th>Parch</th>\n",
       "      <th>Ticket</th>\n",
       "      <th>Fare</th>\n",
       "      <th>Cabin</th>\n",
       "      <th>Embarked</th>\n",
       "      <th>Cabin_num</th>\n",
       "      <th>Cabin_cat</th>\n",
       "      <th>Title</th>\n",
       "    </tr>\n",
       "  </thead>\n",
       "  <tbody>\n",
       "    <tr>\n",
       "      <th>0</th>\n",
       "      <td>1</td>\n",
       "      <td>0</td>\n",
       "      <td>3</td>\n",
       "      <td>Braund, Mr. Owen Harris</td>\n",
       "      <td>male</td>\n",
       "      <td>22.0</td>\n",
       "      <td>1</td>\n",
       "      <td>0</td>\n",
       "      <td>A/5 21171</td>\n",
       "      <td>7.2500</td>\n",
       "      <td>NaN</td>\n",
       "      <td>S</td>\n",
       "      <td>NaN</td>\n",
       "      <td>NaN</td>\n",
       "      <td>Mr.</td>\n",
       "    </tr>\n",
       "    <tr>\n",
       "      <th>1</th>\n",
       "      <td>2</td>\n",
       "      <td>1</td>\n",
       "      <td>1</td>\n",
       "      <td>Cumings, Mrs. John Bradley (Florence Briggs Th...</td>\n",
       "      <td>female</td>\n",
       "      <td>38.0</td>\n",
       "      <td>1</td>\n",
       "      <td>0</td>\n",
       "      <td>PC 17599</td>\n",
       "      <td>71.2833</td>\n",
       "      <td>C85</td>\n",
       "      <td>C</td>\n",
       "      <td>85.0</td>\n",
       "      <td>C</td>\n",
       "      <td>Mrs.</td>\n",
       "    </tr>\n",
       "    <tr>\n",
       "      <th>2</th>\n",
       "      <td>3</td>\n",
       "      <td>1</td>\n",
       "      <td>3</td>\n",
       "      <td>Heikkinen, Miss. Laina</td>\n",
       "      <td>female</td>\n",
       "      <td>26.0</td>\n",
       "      <td>0</td>\n",
       "      <td>0</td>\n",
       "      <td>STON/O2. 3101282</td>\n",
       "      <td>7.9250</td>\n",
       "      <td>NaN</td>\n",
       "      <td>S</td>\n",
       "      <td>NaN</td>\n",
       "      <td>NaN</td>\n",
       "      <td>Miss.</td>\n",
       "    </tr>\n",
       "    <tr>\n",
       "      <th>3</th>\n",
       "      <td>4</td>\n",
       "      <td>1</td>\n",
       "      <td>1</td>\n",
       "      <td>Futrelle, Mrs. Jacques Heath (Lily May Peel)</td>\n",
       "      <td>female</td>\n",
       "      <td>35.0</td>\n",
       "      <td>1</td>\n",
       "      <td>0</td>\n",
       "      <td>113803</td>\n",
       "      <td>53.1000</td>\n",
       "      <td>C123</td>\n",
       "      <td>S</td>\n",
       "      <td>123.0</td>\n",
       "      <td>C</td>\n",
       "      <td>Mrs.</td>\n",
       "    </tr>\n",
       "    <tr>\n",
       "      <th>4</th>\n",
       "      <td>5</td>\n",
       "      <td>0</td>\n",
       "      <td>3</td>\n",
       "      <td>Allen, Mr. William Henry</td>\n",
       "      <td>male</td>\n",
       "      <td>35.0</td>\n",
       "      <td>0</td>\n",
       "      <td>0</td>\n",
       "      <td>373450</td>\n",
       "      <td>8.0500</td>\n",
       "      <td>NaN</td>\n",
       "      <td>S</td>\n",
       "      <td>NaN</td>\n",
       "      <td>NaN</td>\n",
       "      <td>Mr.</td>\n",
       "    </tr>\n",
       "  </tbody>\n",
       "</table>\n",
       "</div>"
      ],
      "text/plain": [
       "   PassengerId  Survived  Pclass  \\\n",
       "0            1         0       3   \n",
       "1            2         1       1   \n",
       "2            3         1       3   \n",
       "3            4         1       1   \n",
       "4            5         0       3   \n",
       "\n",
       "                                                Name     Sex   Age  SibSp  \\\n",
       "0                            Braund, Mr. Owen Harris    male  22.0      1   \n",
       "1  Cumings, Mrs. John Bradley (Florence Briggs Th...  female  38.0      1   \n",
       "2                             Heikkinen, Miss. Laina  female  26.0      0   \n",
       "3       Futrelle, Mrs. Jacques Heath (Lily May Peel)  female  35.0      1   \n",
       "4                           Allen, Mr. William Henry    male  35.0      0   \n",
       "\n",
       "   Parch            Ticket     Fare Cabin Embarked  Cabin_num Cabin_cat  Title  \n",
       "0      0         A/5 21171   7.2500   NaN        S        NaN       NaN    Mr.  \n",
       "1      0          PC 17599  71.2833   C85        C       85.0         C   Mrs.  \n",
       "2      0  STON/O2. 3101282   7.9250   NaN        S        NaN       NaN  Miss.  \n",
       "3      0            113803  53.1000  C123        S      123.0         C   Mrs.  \n",
       "4      0            373450   8.0500   NaN        S        NaN       NaN    Mr.  "
      ]
     },
     "execution_count": 11,
     "metadata": {},
     "output_type": "execute_result"
    }
   ],
   "source": [
    "data['Title'] = data['Name'].str.split(',').str[1].str.split('\\s+').str[1]\n",
    "data.head()"
   ]
  },
  {
   "cell_type": "code",
   "execution_count": 12,
   "metadata": {
    "ExecuteTime": {
     "end_time": "2020-03-09T07:31:28.967195Z",
     "start_time": "2020-03-09T07:31:28.956166Z"
    },
    "colab": {
     "base_uri": "https://localhost:8080/",
     "height": 334
    },
    "colab_type": "code",
    "id": "UDbmb6pBIwKM",
    "outputId": "6a398bb8-5d73-4727-81be-14639a6a993c"
   },
   "outputs": [
    {
     "data": {
      "text/plain": [
       "Mr.          517\n",
       "Miss.        182\n",
       "Mrs.         125\n",
       "Master.       40\n",
       "Dr.            7\n",
       "Rev.           6\n",
       "Major.         2\n",
       "Mlle.          2\n",
       "Col.           2\n",
       "Mme.           1\n",
       "Capt.          1\n",
       "Sir.           1\n",
       "Jonkheer.      1\n",
       "Don.           1\n",
       "the            1\n",
       "Lady.          1\n",
       "Ms.            1\n",
       "Name: Title, dtype: int64"
      ]
     },
     "execution_count": 12,
     "metadata": {},
     "output_type": "execute_result"
    }
   ],
   "source": [
    "data['Title'].value_counts()"
   ]
  },
  {
   "cell_type": "code",
   "execution_count": 13,
   "metadata": {
    "ExecuteTime": {
     "end_time": "2020-03-09T07:31:31.253019Z",
     "start_time": "2020-03-09T07:31:31.245000Z"
    },
    "colab": {
     "base_uri": "https://localhost:8080/",
     "height": 175
    },
    "colab_type": "code",
    "id": "il2gU1f8IwKS",
    "outputId": "790d6743-2f9a-44d7-9352-e3bde981086b"
   },
   "outputs": [
    {
     "data": {
      "text/plain": [
       "C    59\n",
       "B    47\n",
       "D    33\n",
       "E    32\n",
       "A    15\n",
       "F    13\n",
       "G     4\n",
       "T     1\n",
       "Name: Cabin_cat, dtype: int64"
      ]
     },
     "execution_count": 13,
     "metadata": {},
     "output_type": "execute_result"
    }
   ],
   "source": [
    "data['Cabin_cat'].value_counts()"
   ]
  },
  {
   "cell_type": "code",
   "execution_count": 14,
   "metadata": {
    "ExecuteTime": {
     "end_time": "2020-03-09T07:31:33.394776Z",
     "start_time": "2020-03-09T07:31:33.373716Z"
    },
    "colab": {
     "base_uri": "https://localhost:8080/",
     "height": 203
    },
    "colab_type": "code",
    "id": "iLmq2v7NIwKV",
    "outputId": "ff08f912-beb8-4d07-aa92-650e587e3feb"
   },
   "outputs": [
    {
     "data": {
      "text/html": [
       "<div>\n",
       "<style scoped>\n",
       "    .dataframe tbody tr th:only-of-type {\n",
       "        vertical-align: middle;\n",
       "    }\n",
       "\n",
       "    .dataframe tbody tr th {\n",
       "        vertical-align: top;\n",
       "    }\n",
       "\n",
       "    .dataframe thead th {\n",
       "        text-align: right;\n",
       "    }\n",
       "</style>\n",
       "<table border=\"1\" class=\"dataframe\">\n",
       "  <thead>\n",
       "    <tr style=\"text-align: right;\">\n",
       "      <th></th>\n",
       "      <th>PassengerId</th>\n",
       "      <th>Survived</th>\n",
       "      <th>Pclass</th>\n",
       "      <th>Name</th>\n",
       "      <th>Sex</th>\n",
       "      <th>Age</th>\n",
       "      <th>SibSp</th>\n",
       "      <th>Parch</th>\n",
       "      <th>Ticket</th>\n",
       "      <th>Fare</th>\n",
       "      <th>Cabin</th>\n",
       "      <th>Embarked</th>\n",
       "      <th>Cabin_num</th>\n",
       "      <th>Cabin_cat</th>\n",
       "      <th>Title</th>\n",
       "    </tr>\n",
       "  </thead>\n",
       "  <tbody>\n",
       "    <tr>\n",
       "      <th>0</th>\n",
       "      <td>1</td>\n",
       "      <td>0</td>\n",
       "      <td>3</td>\n",
       "      <td>Braund, Mr. Owen Harris</td>\n",
       "      <td>male</td>\n",
       "      <td>22.0</td>\n",
       "      <td>1</td>\n",
       "      <td>0</td>\n",
       "      <td>A/5 21171</td>\n",
       "      <td>7.2500</td>\n",
       "      <td>NaN</td>\n",
       "      <td>S</td>\n",
       "      <td>NaN</td>\n",
       "      <td>NaN</td>\n",
       "      <td>Mr.</td>\n",
       "    </tr>\n",
       "    <tr>\n",
       "      <th>1</th>\n",
       "      <td>2</td>\n",
       "      <td>1</td>\n",
       "      <td>1</td>\n",
       "      <td>Cumings, Mrs. John Bradley (Florence Briggs Th...</td>\n",
       "      <td>female</td>\n",
       "      <td>38.0</td>\n",
       "      <td>1</td>\n",
       "      <td>0</td>\n",
       "      <td>PC 17599</td>\n",
       "      <td>71.2833</td>\n",
       "      <td>C85</td>\n",
       "      <td>C</td>\n",
       "      <td>85.0</td>\n",
       "      <td>C</td>\n",
       "      <td>Mrs.</td>\n",
       "    </tr>\n",
       "    <tr>\n",
       "      <th>2</th>\n",
       "      <td>3</td>\n",
       "      <td>1</td>\n",
       "      <td>3</td>\n",
       "      <td>Heikkinen, Miss. Laina</td>\n",
       "      <td>female</td>\n",
       "      <td>26.0</td>\n",
       "      <td>0</td>\n",
       "      <td>0</td>\n",
       "      <td>STON/O2. 3101282</td>\n",
       "      <td>7.9250</td>\n",
       "      <td>NaN</td>\n",
       "      <td>S</td>\n",
       "      <td>NaN</td>\n",
       "      <td>NaN</td>\n",
       "      <td>Miss.</td>\n",
       "    </tr>\n",
       "    <tr>\n",
       "      <th>3</th>\n",
       "      <td>4</td>\n",
       "      <td>1</td>\n",
       "      <td>1</td>\n",
       "      <td>Futrelle, Mrs. Jacques Heath (Lily May Peel)</td>\n",
       "      <td>female</td>\n",
       "      <td>35.0</td>\n",
       "      <td>1</td>\n",
       "      <td>0</td>\n",
       "      <td>113803</td>\n",
       "      <td>53.1000</td>\n",
       "      <td>C123</td>\n",
       "      <td>S</td>\n",
       "      <td>123.0</td>\n",
       "      <td>C</td>\n",
       "      <td>Mrs.</td>\n",
       "    </tr>\n",
       "    <tr>\n",
       "      <th>4</th>\n",
       "      <td>5</td>\n",
       "      <td>0</td>\n",
       "      <td>3</td>\n",
       "      <td>Allen, Mr. William Henry</td>\n",
       "      <td>male</td>\n",
       "      <td>35.0</td>\n",
       "      <td>0</td>\n",
       "      <td>0</td>\n",
       "      <td>373450</td>\n",
       "      <td>8.0500</td>\n",
       "      <td>NaN</td>\n",
       "      <td>S</td>\n",
       "      <td>NaN</td>\n",
       "      <td>NaN</td>\n",
       "      <td>Mr.</td>\n",
       "    </tr>\n",
       "  </tbody>\n",
       "</table>\n",
       "</div>"
      ],
      "text/plain": [
       "   PassengerId  Survived  Pclass  \\\n",
       "0            1         0       3   \n",
       "1            2         1       1   \n",
       "2            3         1       3   \n",
       "3            4         1       1   \n",
       "4            5         0       3   \n",
       "\n",
       "                                                Name     Sex   Age  SibSp  \\\n",
       "0                            Braund, Mr. Owen Harris    male  22.0      1   \n",
       "1  Cumings, Mrs. John Bradley (Florence Briggs Th...  female  38.0      1   \n",
       "2                             Heikkinen, Miss. Laina  female  26.0      0   \n",
       "3       Futrelle, Mrs. Jacques Heath (Lily May Peel)  female  35.0      1   \n",
       "4                           Allen, Mr. William Henry    male  35.0      0   \n",
       "\n",
       "   Parch            Ticket     Fare Cabin Embarked  Cabin_num Cabin_cat  Title  \n",
       "0      0         A/5 21171   7.2500   NaN        S        NaN       NaN    Mr.  \n",
       "1      0          PC 17599  71.2833   C85        C       85.0         C   Mrs.  \n",
       "2      0  STON/O2. 3101282   7.9250   NaN        S        NaN       NaN  Miss.  \n",
       "3      0            113803  53.1000  C123        S      123.0         C   Mrs.  \n",
       "4      0            373450   8.0500   NaN        S        NaN       NaN    Mr.  "
      ]
     },
     "execution_count": 14,
     "metadata": {},
     "output_type": "execute_result"
    }
   ],
   "source": [
    "# drop original mixed\n",
    "data.head()"
   ]
  },
  {
   "cell_type": "code",
   "execution_count": 15,
   "metadata": {
    "ExecuteTime": {
     "end_time": "2020-03-09T07:31:37.790503Z",
     "start_time": "2020-03-09T07:31:37.782478Z"
    },
    "colab": {},
    "colab_type": "code",
    "id": "Ng_rQNFlIwKZ"
   },
   "outputs": [],
   "source": [
    "data.drop(['PassengerId','Name','Ticket','Cabin'], axis=1,inplace=True)"
   ]
  },
  {
   "cell_type": "code",
   "execution_count": 16,
   "metadata": {
    "ExecuteTime": {
     "end_time": "2020-03-09T07:31:38.924192Z",
     "start_time": "2020-03-09T07:31:38.909150Z"
    },
    "colab": {
     "base_uri": "https://localhost:8080/",
     "height": 203
    },
    "colab_type": "code",
    "id": "z358jNr6IwKd",
    "outputId": "8f37ca36-f3f9-419d-eda7-b8a12fc2ebd9"
   },
   "outputs": [
    {
     "data": {
      "text/html": [
       "<div>\n",
       "<style scoped>\n",
       "    .dataframe tbody tr th:only-of-type {\n",
       "        vertical-align: middle;\n",
       "    }\n",
       "\n",
       "    .dataframe tbody tr th {\n",
       "        vertical-align: top;\n",
       "    }\n",
       "\n",
       "    .dataframe thead th {\n",
       "        text-align: right;\n",
       "    }\n",
       "</style>\n",
       "<table border=\"1\" class=\"dataframe\">\n",
       "  <thead>\n",
       "    <tr style=\"text-align: right;\">\n",
       "      <th></th>\n",
       "      <th>Survived</th>\n",
       "      <th>Pclass</th>\n",
       "      <th>Sex</th>\n",
       "      <th>Age</th>\n",
       "      <th>SibSp</th>\n",
       "      <th>Parch</th>\n",
       "      <th>Fare</th>\n",
       "      <th>Embarked</th>\n",
       "      <th>Cabin_num</th>\n",
       "      <th>Cabin_cat</th>\n",
       "      <th>Title</th>\n",
       "    </tr>\n",
       "  </thead>\n",
       "  <tbody>\n",
       "    <tr>\n",
       "      <th>0</th>\n",
       "      <td>0</td>\n",
       "      <td>3</td>\n",
       "      <td>male</td>\n",
       "      <td>22.0</td>\n",
       "      <td>1</td>\n",
       "      <td>0</td>\n",
       "      <td>7.2500</td>\n",
       "      <td>S</td>\n",
       "      <td>NaN</td>\n",
       "      <td>NaN</td>\n",
       "      <td>Mr.</td>\n",
       "    </tr>\n",
       "    <tr>\n",
       "      <th>1</th>\n",
       "      <td>1</td>\n",
       "      <td>1</td>\n",
       "      <td>female</td>\n",
       "      <td>38.0</td>\n",
       "      <td>1</td>\n",
       "      <td>0</td>\n",
       "      <td>71.2833</td>\n",
       "      <td>C</td>\n",
       "      <td>85.0</td>\n",
       "      <td>C</td>\n",
       "      <td>Mrs.</td>\n",
       "    </tr>\n",
       "    <tr>\n",
       "      <th>2</th>\n",
       "      <td>1</td>\n",
       "      <td>3</td>\n",
       "      <td>female</td>\n",
       "      <td>26.0</td>\n",
       "      <td>0</td>\n",
       "      <td>0</td>\n",
       "      <td>7.9250</td>\n",
       "      <td>S</td>\n",
       "      <td>NaN</td>\n",
       "      <td>NaN</td>\n",
       "      <td>Miss.</td>\n",
       "    </tr>\n",
       "    <tr>\n",
       "      <th>3</th>\n",
       "      <td>1</td>\n",
       "      <td>1</td>\n",
       "      <td>female</td>\n",
       "      <td>35.0</td>\n",
       "      <td>1</td>\n",
       "      <td>0</td>\n",
       "      <td>53.1000</td>\n",
       "      <td>S</td>\n",
       "      <td>123.0</td>\n",
       "      <td>C</td>\n",
       "      <td>Mrs.</td>\n",
       "    </tr>\n",
       "    <tr>\n",
       "      <th>4</th>\n",
       "      <td>0</td>\n",
       "      <td>3</td>\n",
       "      <td>male</td>\n",
       "      <td>35.0</td>\n",
       "      <td>0</td>\n",
       "      <td>0</td>\n",
       "      <td>8.0500</td>\n",
       "      <td>S</td>\n",
       "      <td>NaN</td>\n",
       "      <td>NaN</td>\n",
       "      <td>Mr.</td>\n",
       "    </tr>\n",
       "  </tbody>\n",
       "</table>\n",
       "</div>"
      ],
      "text/plain": [
       "   Survived  Pclass     Sex   Age  SibSp  Parch     Fare Embarked  Cabin_num  \\\n",
       "0         0       3    male  22.0      1      0   7.2500        S        NaN   \n",
       "1         1       1  female  38.0      1      0  71.2833        C       85.0   \n",
       "2         1       3  female  26.0      0      0   7.9250        S        NaN   \n",
       "3         1       1  female  35.0      1      0  53.1000        S      123.0   \n",
       "4         0       3    male  35.0      0      0   8.0500        S        NaN   \n",
       "\n",
       "  Cabin_cat  Title  \n",
       "0       NaN    Mr.  \n",
       "1         C   Mrs.  \n",
       "2       NaN  Miss.  \n",
       "3         C   Mrs.  \n",
       "4       NaN    Mr.  "
      ]
     },
     "execution_count": 16,
     "metadata": {},
     "output_type": "execute_result"
    }
   ],
   "source": [
    "data.head()"
   ]
  },
  {
   "cell_type": "code",
   "execution_count": 17,
   "metadata": {
    "ExecuteTime": {
     "end_time": "2020-03-09T07:31:41.011048Z",
     "start_time": "2020-03-09T07:31:40.972941Z"
    },
    "colab": {
     "base_uri": "https://localhost:8080/",
     "height": 295
    },
    "colab_type": "code",
    "id": "VYkCwnZJIwKh",
    "outputId": "ff737bf4-a08e-449b-f2d2-6d4aa230fd63"
   },
   "outputs": [
    {
     "data": {
      "text/html": [
       "<div>\n",
       "<style scoped>\n",
       "    .dataframe tbody tr th:only-of-type {\n",
       "        vertical-align: middle;\n",
       "    }\n",
       "\n",
       "    .dataframe tbody tr th {\n",
       "        vertical-align: top;\n",
       "    }\n",
       "\n",
       "    .dataframe thead th {\n",
       "        text-align: right;\n",
       "    }\n",
       "</style>\n",
       "<table border=\"1\" class=\"dataframe\">\n",
       "  <thead>\n",
       "    <tr style=\"text-align: right;\">\n",
       "      <th></th>\n",
       "      <th>Survived</th>\n",
       "      <th>Pclass</th>\n",
       "      <th>Age</th>\n",
       "      <th>SibSp</th>\n",
       "      <th>Parch</th>\n",
       "      <th>Fare</th>\n",
       "      <th>Cabin_num</th>\n",
       "    </tr>\n",
       "  </thead>\n",
       "  <tbody>\n",
       "    <tr>\n",
       "      <th>count</th>\n",
       "      <td>891.000000</td>\n",
       "      <td>891.000000</td>\n",
       "      <td>714.000000</td>\n",
       "      <td>891.000000</td>\n",
       "      <td>891.000000</td>\n",
       "      <td>891.000000</td>\n",
       "      <td>200.00000</td>\n",
       "    </tr>\n",
       "    <tr>\n",
       "      <th>mean</th>\n",
       "      <td>0.383838</td>\n",
       "      <td>2.308642</td>\n",
       "      <td>29.699118</td>\n",
       "      <td>0.523008</td>\n",
       "      <td>0.381594</td>\n",
       "      <td>32.204208</td>\n",
       "      <td>50.49000</td>\n",
       "    </tr>\n",
       "    <tr>\n",
       "      <th>std</th>\n",
       "      <td>0.486592</td>\n",
       "      <td>0.836071</td>\n",
       "      <td>14.526497</td>\n",
       "      <td>1.102743</td>\n",
       "      <td>0.806057</td>\n",
       "      <td>49.693429</td>\n",
       "      <td>35.39497</td>\n",
       "    </tr>\n",
       "    <tr>\n",
       "      <th>min</th>\n",
       "      <td>0.000000</td>\n",
       "      <td>1.000000</td>\n",
       "      <td>0.420000</td>\n",
       "      <td>0.000000</td>\n",
       "      <td>0.000000</td>\n",
       "      <td>0.000000</td>\n",
       "      <td>2.00000</td>\n",
       "    </tr>\n",
       "    <tr>\n",
       "      <th>25%</th>\n",
       "      <td>0.000000</td>\n",
       "      <td>2.000000</td>\n",
       "      <td>20.125000</td>\n",
       "      <td>0.000000</td>\n",
       "      <td>0.000000</td>\n",
       "      <td>7.910400</td>\n",
       "      <td>22.00000</td>\n",
       "    </tr>\n",
       "    <tr>\n",
       "      <th>50%</th>\n",
       "      <td>0.000000</td>\n",
       "      <td>3.000000</td>\n",
       "      <td>28.000000</td>\n",
       "      <td>0.000000</td>\n",
       "      <td>0.000000</td>\n",
       "      <td>14.454200</td>\n",
       "      <td>43.00000</td>\n",
       "    </tr>\n",
       "    <tr>\n",
       "      <th>75%</th>\n",
       "      <td>1.000000</td>\n",
       "      <td>3.000000</td>\n",
       "      <td>38.000000</td>\n",
       "      <td>1.000000</td>\n",
       "      <td>0.000000</td>\n",
       "      <td>31.000000</td>\n",
       "      <td>77.25000</td>\n",
       "    </tr>\n",
       "    <tr>\n",
       "      <th>max</th>\n",
       "      <td>1.000000</td>\n",
       "      <td>3.000000</td>\n",
       "      <td>80.000000</td>\n",
       "      <td>8.000000</td>\n",
       "      <td>6.000000</td>\n",
       "      <td>512.329200</td>\n",
       "      <td>148.00000</td>\n",
       "    </tr>\n",
       "  </tbody>\n",
       "</table>\n",
       "</div>"
      ],
      "text/plain": [
       "         Survived      Pclass         Age       SibSp       Parch        Fare  \\\n",
       "count  891.000000  891.000000  714.000000  891.000000  891.000000  891.000000   \n",
       "mean     0.383838    2.308642   29.699118    0.523008    0.381594   32.204208   \n",
       "std      0.486592    0.836071   14.526497    1.102743    0.806057   49.693429   \n",
       "min      0.000000    1.000000    0.420000    0.000000    0.000000    0.000000   \n",
       "25%      0.000000    2.000000   20.125000    0.000000    0.000000    7.910400   \n",
       "50%      0.000000    3.000000   28.000000    0.000000    0.000000   14.454200   \n",
       "75%      1.000000    3.000000   38.000000    1.000000    0.000000   31.000000   \n",
       "max      1.000000    3.000000   80.000000    8.000000    6.000000  512.329200   \n",
       "\n",
       "       Cabin_num  \n",
       "count  200.00000  \n",
       "mean    50.49000  \n",
       "std     35.39497  \n",
       "min      2.00000  \n",
       "25%     22.00000  \n",
       "50%     43.00000  \n",
       "75%     77.25000  \n",
       "max    148.00000  "
      ]
     },
     "execution_count": 17,
     "metadata": {},
     "output_type": "execute_result"
    }
   ],
   "source": [
    "data.describe()"
   ]
  },
  {
   "cell_type": "code",
   "execution_count": 18,
   "metadata": {
    "ExecuteTime": {
     "end_time": "2020-03-09T07:31:43.601228Z",
     "start_time": "2020-03-09T07:31:43.589194Z"
    },
    "colab": {
     "base_uri": "https://localhost:8080/",
     "height": 35
    },
    "colab_type": "code",
    "id": "Awj9y_tMIwKl",
    "outputId": "524a8dc0-687e-48c3-a415-ffcbe32dfe88"
   },
   "outputs": [
    {
     "data": {
      "text/plain": [
       "((801, 10), (90, 10))"
      ]
     },
     "execution_count": 18,
     "metadata": {},
     "output_type": "execute_result"
    }
   ],
   "source": [
    "# separate into training and testing set\n",
    "from sklearn.model_selection import train_test_split\n",
    "X_train, X_test, y_train, y_test = train_test_split(\n",
    "    data.drop('Survived', axis=1),  # predictors\n",
    "    data['Survived'],  # target\n",
    "    test_size=0.1,  # percentage of obs in test set\n",
    "    random_state=0)  # seed to ensure reproducibility\n",
    "\n",
    "X_train.shape, X_test.shape"
   ]
  },
  {
   "cell_type": "code",
   "execution_count": 19,
   "metadata": {
    "ExecuteTime": {
     "end_time": "2020-03-09T07:31:45.210365Z",
     "start_time": "2020-03-09T07:31:45.194323Z"
    },
    "colab": {
     "base_uri": "https://localhost:8080/",
     "height": 203
    },
    "colab_type": "code",
    "id": "ioRoM2oWIwKo",
    "outputId": "9d80d2ba-e020-4c71-d177-3eb76f654e87"
   },
   "outputs": [
    {
     "data": {
      "text/html": [
       "<div>\n",
       "<style scoped>\n",
       "    .dataframe tbody tr th:only-of-type {\n",
       "        vertical-align: middle;\n",
       "    }\n",
       "\n",
       "    .dataframe tbody tr th {\n",
       "        vertical-align: top;\n",
       "    }\n",
       "\n",
       "    .dataframe thead th {\n",
       "        text-align: right;\n",
       "    }\n",
       "</style>\n",
       "<table border=\"1\" class=\"dataframe\">\n",
       "  <thead>\n",
       "    <tr style=\"text-align: right;\">\n",
       "      <th></th>\n",
       "      <th>Pclass</th>\n",
       "      <th>Sex</th>\n",
       "      <th>Age</th>\n",
       "      <th>SibSp</th>\n",
       "      <th>Parch</th>\n",
       "      <th>Fare</th>\n",
       "      <th>Embarked</th>\n",
       "      <th>Cabin_num</th>\n",
       "      <th>Cabin_cat</th>\n",
       "      <th>Title</th>\n",
       "    </tr>\n",
       "  </thead>\n",
       "  <tbody>\n",
       "    <tr>\n",
       "      <th>815</th>\n",
       "      <td>1</td>\n",
       "      <td>male</td>\n",
       "      <td>NaN</td>\n",
       "      <td>0</td>\n",
       "      <td>0</td>\n",
       "      <td>0.0000</td>\n",
       "      <td>S</td>\n",
       "      <td>102.0</td>\n",
       "      <td>B</td>\n",
       "      <td>Mr.</td>\n",
       "    </tr>\n",
       "    <tr>\n",
       "      <th>877</th>\n",
       "      <td>3</td>\n",
       "      <td>male</td>\n",
       "      <td>19.0</td>\n",
       "      <td>0</td>\n",
       "      <td>0</td>\n",
       "      <td>7.8958</td>\n",
       "      <td>S</td>\n",
       "      <td>NaN</td>\n",
       "      <td>NaN</td>\n",
       "      <td>Mr.</td>\n",
       "    </tr>\n",
       "    <tr>\n",
       "      <th>193</th>\n",
       "      <td>2</td>\n",
       "      <td>male</td>\n",
       "      <td>3.0</td>\n",
       "      <td>1</td>\n",
       "      <td>1</td>\n",
       "      <td>26.0000</td>\n",
       "      <td>S</td>\n",
       "      <td>2.0</td>\n",
       "      <td>F</td>\n",
       "      <td>Master.</td>\n",
       "    </tr>\n",
       "    <tr>\n",
       "      <th>523</th>\n",
       "      <td>1</td>\n",
       "      <td>female</td>\n",
       "      <td>44.0</td>\n",
       "      <td>0</td>\n",
       "      <td>1</td>\n",
       "      <td>57.9792</td>\n",
       "      <td>C</td>\n",
       "      <td>18.0</td>\n",
       "      <td>B</td>\n",
       "      <td>Mrs.</td>\n",
       "    </tr>\n",
       "    <tr>\n",
       "      <th>634</th>\n",
       "      <td>3</td>\n",
       "      <td>female</td>\n",
       "      <td>9.0</td>\n",
       "      <td>3</td>\n",
       "      <td>2</td>\n",
       "      <td>27.9000</td>\n",
       "      <td>S</td>\n",
       "      <td>NaN</td>\n",
       "      <td>NaN</td>\n",
       "      <td>Miss.</td>\n",
       "    </tr>\n",
       "  </tbody>\n",
       "</table>\n",
       "</div>"
      ],
      "text/plain": [
       "     Pclass     Sex   Age  SibSp  Parch     Fare Embarked  Cabin_num  \\\n",
       "815       1    male   NaN      0      0   0.0000        S      102.0   \n",
       "877       3    male  19.0      0      0   7.8958        S        NaN   \n",
       "193       2    male   3.0      1      1  26.0000        S        2.0   \n",
       "523       1  female  44.0      0      1  57.9792        C       18.0   \n",
       "634       3  female   9.0      3      2  27.9000        S        NaN   \n",
       "\n",
       "    Cabin_cat    Title  \n",
       "815         B      Mr.  \n",
       "877       NaN      Mr.  \n",
       "193         F  Master.  \n",
       "523         B     Mrs.  \n",
       "634       NaN    Miss.  "
      ]
     },
     "execution_count": 19,
     "metadata": {},
     "output_type": "execute_result"
    }
   ],
   "source": [
    "X_train.head()"
   ]
  },
  {
   "cell_type": "code",
   "execution_count": 20,
   "metadata": {
    "ExecuteTime": {
     "end_time": "2020-03-09T07:31:46.822094Z",
     "start_time": "2020-03-09T07:31:46.814072Z"
    },
    "colab": {
     "base_uri": "https://localhost:8080/",
     "height": 281
    },
    "colab_type": "code",
    "id": "rbZg5ktTIwKs",
    "outputId": "939ec3a9-0fb3-4790-82a0-e2d0151682b9"
   },
   "outputs": [
    {
     "name": "stdout",
     "output_type": "stream",
     "text": [
      "<class 'pandas.core.frame.DataFrame'>\n",
      "Int64Index: 801 entries, 815 to 684\n",
      "Data columns (total 10 columns):\n",
      "Pclass       801 non-null int64\n",
      "Sex          801 non-null object\n",
      "Age          643 non-null float64\n",
      "SibSp        801 non-null int64\n",
      "Parch        801 non-null int64\n",
      "Fare         801 non-null float64\n",
      "Embarked     799 non-null object\n",
      "Cabin_num    175 non-null float64\n",
      "Cabin_cat    179 non-null object\n",
      "Title        801 non-null object\n",
      "dtypes: float64(3), int64(3), object(4)\n",
      "memory usage: 68.8+ KB\n"
     ]
    }
   ],
   "source": [
    "X_train.info()"
   ]
  },
  {
   "cell_type": "code",
   "execution_count": 21,
   "metadata": {
    "colab": {
     "base_uri": "https://localhost:8080/",
     "height": 545
    },
    "colab_type": "code",
    "id": "DgCjbdghLwiO",
    "outputId": "584eb3c7-23d0-4fb6-f0c8-2cd9aca0d64f"
   },
   "outputs": [
    {
     "name": "stdout",
     "output_type": "stream",
     "text": [
      "Requirement already satisfied: feature_engine in c:\\users\\14695\\appdata\\local\\continuum\\anaconda3\\envs\\buan6341_2020\\lib\\site-packages (0.3.1)\n",
      "Requirement already satisfied: scipy>=0.19.0 in c:\\users\\14695\\appdata\\local\\continuum\\anaconda3\\envs\\buan6341_2020\\lib\\site-packages (from feature_engine) (1.4.1)\n",
      "Requirement already satisfied: numpydoc>=0.6.0 in c:\\users\\14695\\appdata\\local\\continuum\\anaconda3\\envs\\buan6341_2020\\lib\\site-packages (from feature_engine) (0.9.2)\n",
      "Requirement already satisfied: numpy>=1.12.1 in c:\\users\\14695\\appdata\\local\\continuum\\anaconda3\\envs\\buan6341_2020\\lib\\site-packages (from feature_engine) (1.17.4)\n",
      "Requirement already satisfied: pandas>=0.23.0 in c:\\users\\14695\\appdata\\local\\continuum\\anaconda3\\envs\\buan6341_2020\\lib\\site-packages (from feature_engine) (0.25.3)\n",
      "Requirement already satisfied: statsmodels>=0.8.0 in c:\\users\\14695\\appdata\\local\\continuum\\anaconda3\\envs\\buan6341_2020\\lib\\site-packages (from feature_engine) (0.10.1)\n",
      "Requirement already satisfied: scikit-learn>=0.18.1 in c:\\users\\14695\\appdata\\local\\continuum\\anaconda3\\envs\\buan6341_2020\\lib\\site-packages (from feature_engine) (0.22.1)\n",
      "Requirement already satisfied: Jinja2>=2.3 in c:\\users\\14695\\appdata\\local\\continuum\\anaconda3\\envs\\buan6341_2020\\lib\\site-packages (from numpydoc>=0.6.0->feature_engine) (2.11.1)\n",
      "Requirement already satisfied: sphinx>=1.6.5 in c:\\users\\14695\\appdata\\local\\continuum\\anaconda3\\envs\\buan6341_2020\\lib\\site-packages (from numpydoc>=0.6.0->feature_engine) (2.4.0)\n",
      "Requirement already satisfied: python-dateutil>=2.6.1 in c:\\users\\14695\\appdata\\local\\continuum\\anaconda3\\envs\\buan6341_2020\\lib\\site-packages (from pandas>=0.23.0->feature_engine) (2.8.1)\n",
      "Requirement already satisfied: pytz>=2017.2 in c:\\users\\14695\\appdata\\local\\continuum\\anaconda3\\envs\\buan6341_2020\\lib\\site-packages (from pandas>=0.23.0->feature_engine) (2019.3)\n",
      "Requirement already satisfied: patsy>=0.4.0 in c:\\users\\14695\\appdata\\local\\continuum\\anaconda3\\envs\\buan6341_2020\\lib\\site-packages (from statsmodels>=0.8.0->feature_engine) (0.5.1)\n",
      "Requirement already satisfied: joblib>=0.11 in c:\\users\\14695\\appdata\\local\\continuum\\anaconda3\\envs\\buan6341_2020\\lib\\site-packages (from scikit-learn>=0.18.1->feature_engine) (0.14.1)\n",
      "Requirement already satisfied: MarkupSafe>=0.23 in c:\\users\\14695\\appdata\\local\\continuum\\anaconda3\\envs\\buan6341_2020\\lib\\site-packages (from Jinja2>=2.3->numpydoc>=0.6.0->feature_engine) (1.1.1)\n",
      "Requirement already satisfied: setuptools in c:\\users\\14695\\appdata\\local\\continuum\\anaconda3\\envs\\buan6341_2020\\lib\\site-packages (from sphinx>=1.6.5->numpydoc>=0.6.0->feature_engine) (44.0.0.post20200106)\n",
      "Requirement already satisfied: snowballstemmer>=1.1 in c:\\users\\14695\\appdata\\local\\continuum\\anaconda3\\envs\\buan6341_2020\\lib\\site-packages (from sphinx>=1.6.5->numpydoc>=0.6.0->feature_engine) (2.0.0)\n",
      "Requirement already satisfied: Pygments>=2.0 in c:\\users\\14695\\appdata\\local\\continuum\\anaconda3\\envs\\buan6341_2020\\lib\\site-packages (from sphinx>=1.6.5->numpydoc>=0.6.0->feature_engine) (2.5.2)\n",
      "Requirement already satisfied: sphinxcontrib-applehelp in c:\\users\\14695\\appdata\\local\\continuum\\anaconda3\\envs\\buan6341_2020\\lib\\site-packages (from sphinx>=1.6.5->numpydoc>=0.6.0->feature_engine) (1.0.1)\n",
      "Requirement already satisfied: sphinxcontrib-devhelp in c:\\users\\14695\\appdata\\local\\continuum\\anaconda3\\envs\\buan6341_2020\\lib\\site-packages (from sphinx>=1.6.5->numpydoc>=0.6.0->feature_engine) (1.0.1)\n",
      "Requirement already satisfied: packaging in c:\\users\\14695\\appdata\\local\\continuum\\anaconda3\\envs\\buan6341_2020\\lib\\site-packages (from sphinx>=1.6.5->numpydoc>=0.6.0->feature_engine) (20.1)\n",
      "Requirement already satisfied: sphinxcontrib-serializinghtml in c:\\users\\14695\\appdata\\local\\continuum\\anaconda3\\envs\\buan6341_2020\\lib\\site-packages (from sphinx>=1.6.5->numpydoc>=0.6.0->feature_engine) (1.1.3)\n",
      "Requirement already satisfied: requests>=2.5.0 in c:\\users\\14695\\appdata\\local\\continuum\\anaconda3\\envs\\buan6341_2020\\lib\\site-packages (from sphinx>=1.6.5->numpydoc>=0.6.0->feature_engine) (2.22.0)\n",
      "Requirement already satisfied: babel!=2.0,>=1.3 in c:\\users\\14695\\appdata\\local\\continuum\\anaconda3\\envs\\buan6341_2020\\lib\\site-packages (from sphinx>=1.6.5->numpydoc>=0.6.0->feature_engine) (2.8.0)\n",
      "Requirement already satisfied: sphinxcontrib-jsmath in c:\\users\\14695\\appdata\\local\\continuum\\anaconda3\\envs\\buan6341_2020\\lib\\site-packages (from sphinx>=1.6.5->numpydoc>=0.6.0->feature_engine) (1.0.1)\n",
      "Requirement already satisfied: sphinxcontrib-htmlhelp in c:\\users\\14695\\appdata\\local\\continuum\\anaconda3\\envs\\buan6341_2020\\lib\\site-packages (from sphinx>=1.6.5->numpydoc>=0.6.0->feature_engine) (1.0.2)\n",
      "Requirement already satisfied: sphinxcontrib-qthelp in c:\\users\\14695\\appdata\\local\\continuum\\anaconda3\\envs\\buan6341_2020\\lib\\site-packages (from sphinx>=1.6.5->numpydoc>=0.6.0->feature_engine) (1.0.2)\n",
      "Requirement already satisfied: colorama>=0.3.5; sys_platform == \"win32\" in c:\\users\\14695\\appdata\\local\\continuum\\anaconda3\\envs\\buan6341_2020\\lib\\site-packages (from sphinx>=1.6.5->numpydoc>=0.6.0->feature_engine) (0.4.3)\n",
      "Requirement already satisfied: docutils>=0.12 in c:\\users\\14695\\appdata\\local\\continuum\\anaconda3\\envs\\buan6341_2020\\lib\\site-packages (from sphinx>=1.6.5->numpydoc>=0.6.0->feature_engine) (0.16)\n",
      "Requirement already satisfied: alabaster<0.8,>=0.7 in c:\\users\\14695\\appdata\\local\\continuum\\anaconda3\\envs\\buan6341_2020\\lib\\site-packages (from sphinx>=1.6.5->numpydoc>=0.6.0->feature_engine) (0.7.12)\n",
      "Requirement already satisfied: imagesize in c:\\users\\14695\\appdata\\local\\continuum\\anaconda3\\envs\\buan6341_2020\\lib\\site-packages (from sphinx>=1.6.5->numpydoc>=0.6.0->feature_engine) (1.2.0)\n",
      "Requirement already satisfied: six>=1.5 in c:\\users\\14695\\appdata\\local\\continuum\\anaconda3\\envs\\buan6341_2020\\lib\\site-packages (from python-dateutil>=2.6.1->pandas>=0.23.0->feature_engine) (1.13.0)\n",
      "Requirement already satisfied: pyparsing>=2.0.2 in c:\\users\\14695\\appdata\\local\\continuum\\anaconda3\\envs\\buan6341_2020\\lib\\site-packages (from packaging->sphinx>=1.6.5->numpydoc>=0.6.0->feature_engine) (2.4.6)\n",
      "Requirement already satisfied: idna<2.9,>=2.5 in c:\\users\\14695\\appdata\\local\\continuum\\anaconda3\\envs\\buan6341_2020\\lib\\site-packages (from requests>=2.5.0->sphinx>=1.6.5->numpydoc>=0.6.0->feature_engine) (2.8)\n",
      "Requirement already satisfied: chardet<3.1.0,>=3.0.2 in c:\\users\\14695\\appdata\\local\\continuum\\anaconda3\\envs\\buan6341_2020\\lib\\site-packages (from requests>=2.5.0->sphinx>=1.6.5->numpydoc>=0.6.0->feature_engine) (3.0.4)\n",
      "Requirement already satisfied: urllib3!=1.25.0,!=1.25.1,<1.26,>=1.21.1 in c:\\users\\14695\\appdata\\local\\continuum\\anaconda3\\envs\\buan6341_2020\\lib\\site-packages (from requests>=2.5.0->sphinx>=1.6.5->numpydoc>=0.6.0->feature_engine) (1.24.3)\n",
      "Requirement already satisfied: certifi>=2017.4.17 in c:\\users\\14695\\appdata\\local\\continuum\\anaconda3\\envs\\buan6341_2020\\lib\\site-packages (from requests>=2.5.0->sphinx>=1.6.5->numpydoc>=0.6.0->feature_engine) (2019.11.28)\n",
      "Note: you may need to restart the kernel to use updated packages.\n"
     ]
    }
   ],
   "source": [
    "pip install feature_engine"
   ]
  },
  {
   "cell_type": "code",
   "execution_count": 22,
   "metadata": {
    "ExecuteTime": {
     "end_time": "2020-03-09T07:31:49.061072Z",
     "start_time": "2020-03-09T07:31:49.056562Z"
    },
    "colab": {},
    "colab_type": "code",
    "id": "fshkxWBbIwKv"
   },
   "outputs": [],
   "source": [
    "# from feature-engine\n",
    "from feature_engine import missing_data_imputers as mdi\n",
    "# for one hot encoding with feature-engine\n",
    "from feature_engine.categorical_encoders import OneHotCategoricalEncoder\n",
    "from feature_engine.categorical_encoders import RareLabelCategoricalEncoder\n",
    "from sklearn.linear_model import LogisticRegression\n",
    "from sklearn.pipeline import Pipeline"
   ]
  },
  {
   "cell_type": "code",
   "execution_count": 23,
   "metadata": {
    "ExecuteTime": {
     "end_time": "2020-03-09T07:31:49.933251Z",
     "start_time": "2020-03-09T07:31:49.926236Z"
    },
    "colab": {},
    "colab_type": "code",
    "id": "xatA4etfIwKz"
   },
   "outputs": [],
   "source": [
    "titanic_pipe = Pipeline([\n",
    "\n",
    "    # missing data imputation \n",
    "    ('imputer_num_arbit',\n",
    "     mdi.ArbitraryNumberImputer(arbitrary_number=-1,\n",
    "                                variables=['Cabin_num'])),\n",
    "    ('imputer_num_mean',\n",
    "     mdi.MeanMedianImputer(imputation_method='mean',variables=['Age'])),\n",
    "    \n",
    "    ('imputer_cat_freq',\n",
    "     mdi.FrequentCategoryImputer(variables=['Embarked'])),\n",
    "    \n",
    "    ('imputer_cat_missing',\n",
    "     mdi.CategoricalVariableImputer(variables=['Cabin_cat','Title'])),\n",
    "\n",
    "    # categorical encoding \n",
    "    ('encoder_rare_label',\n",
    "     RareLabelCategoricalEncoder(tol=0.01,\n",
    "                                    n_categories=4,\n",
    "                                    variables=['Cabin_cat','Title'])),\n",
    "    ('categorical_encoder',\n",
    "     OneHotCategoricalEncoder( top_categories=None,\n",
    "                               variables=['Sex', 'Embarked','Cabin_cat','Title'], # we can select which variables to encode\n",
    "                               drop_last=True)),\n",
    "\n",
    "])"
   ]
  },
  {
   "cell_type": "code",
   "execution_count": 24,
   "metadata": {
    "ExecuteTime": {
     "end_time": "2020-03-09T07:31:52.228656Z",
     "start_time": "2020-03-09T07:31:52.177198Z"
    },
    "colab": {
     "base_uri": "https://localhost:8080/",
     "height": 351
    },
    "colab_type": "code",
    "id": "nrWKswzeIwK4",
    "outputId": "e56be900-45b5-4b37-a22b-9c42c90102b5"
   },
   "outputs": [
    {
     "data": {
      "text/plain": [
       "Pipeline(memory=None,\n",
       "         steps=[('imputer_num_arbit',\n",
       "                 ArbitraryNumberImputer(arbitrary_number=-1,\n",
       "                                        variables=['Cabin_num'])),\n",
       "                ('imputer_num_mean',\n",
       "                 MeanMedianImputer(imputation_method='mean',\n",
       "                                   variables=['Age'])),\n",
       "                ('imputer_cat_freq',\n",
       "                 FrequentCategoryImputer(variables=['Embarked'])),\n",
       "                ('imputer_cat_missing',\n",
       "                 CategoricalVariableImputer(variables=['Cabin_cat', 'Title'])),\n",
       "                ('encoder_rare_label',\n",
       "                 RareLabelCategoricalEncoder(n_categories=4, tol=0.01,\n",
       "                                             variables=['Cabin_cat', 'Title'])),\n",
       "                ('categorical_encoder',\n",
       "                 OneHotCategoricalEncoder(drop_last=True, top_categories=None,\n",
       "                                          variables=['Sex', 'Embarked',\n",
       "                                                     'Cabin_cat', 'Title']))],\n",
       "         verbose=False)"
      ]
     },
     "execution_count": 24,
     "metadata": {},
     "output_type": "execute_result"
    }
   ],
   "source": [
    "titanic_pipe.fit(X_train, y_train)"
   ]
  },
  {
   "cell_type": "code",
   "execution_count": 25,
   "metadata": {
    "ExecuteTime": {
     "end_time": "2020-03-09T07:31:54.293463Z",
     "start_time": "2020-03-09T07:31:54.238241Z"
    },
    "colab": {},
    "colab_type": "code",
    "id": "_YKjQk9yIwK8"
   },
   "outputs": [],
   "source": [
    "# Apply Transformations\n",
    "X_train=titanic_pipe.transform(X_train)\n",
    "X_test=titanic_pipe.transform(X_test)"
   ]
  },
  {
   "cell_type": "markdown",
   "metadata": {
    "colab_type": "text",
    "id": "AlzUnopYIwK_"
   },
   "source": [
    "## <span class=\"mark\">DO NOT CHANGE STEPS BEFORE THIS POINT</span>"
   ]
  },
  {
   "cell_type": "markdown",
   "metadata": {},
   "source": [
    "# Logistic Regression\n"
   ]
  },
  {
   "cell_type": "code",
   "execution_count": 26,
   "metadata": {
    "ExecuteTime": {
     "end_time": "2020-03-09T07:31:56.351050Z",
     "start_time": "2020-03-09T07:31:56.106884Z"
    },
    "colab": {
     "base_uri": "https://localhost:8080/",
     "height": 1000
    },
    "colab_type": "code",
    "id": "l38yCJ0JIwLA",
    "outputId": "70381643-f3e8-4519-8016-71b106501bcd"
   },
   "outputs": [
    {
     "name": "stdout",
     "output_type": "stream",
     "text": [
      "Mean Cross-validation scores: 0.8264669163545569\n",
      "Number of Iterations:3\n",
      "Mean Accuracy:0.8264669163545569\n",
      "Logistic Performance-train:  0.8339575530586767\n",
      "Logistic Performance-test:  0.8555555555555555\n"
     ]
    }
   ],
   "source": [
    "# Train a logistic regression model, report the coefficients and model performance \n",
    "\n",
    "# YOUR CODE HERE\n",
    "# Train a logistic regression model, report the coefficients and model performance \n",
    "\n",
    "# YOUR CODE HERE\n",
    "import warnings\n",
    "warnings.filterwarnings(\"ignore\")\n",
    "from sklearn.linear_model import LogisticRegression\n",
    "from sklearn.model_selection import cross_val_score\n",
    "from sklearn.model_selection import GridSearchCV\n",
    "from sklearn.preprocessing import StandardScaler\n",
    "scale=StandardScaler()\n",
    "clf=scale.fit(X_train,y_train)\n",
    "clf = LogisticRegression()\n",
    "\n",
    "cv_scores = cross_val_score(clf, X_train, y_train,cv=3)\n",
    "c_space = np.logspace(-3, 2, 10)\n",
    "pen=['l1','l2']\n",
    "param_grid = {'C': c_space,'penalty': pen,'solver':['liblinear']}\n",
    "\n",
    "# Mean Cross validation Score\n",
    "print(\"Mean Cross-validation scores: {}\".format(cv_scores.mean()))\n",
    "print(\"Number of Iterations:{}\".format(len(cv_scores)))\n",
    "print(\"Mean Accuracy:{}\".format(cv_scores.mean()))\n",
    "\n",
    "clf_cv=GridSearchCV(clf,param_grid,cv=5)\n",
    "clf_cv=clf_cv.fit(X_train,y_train)\n",
    "\n",
    "# Print Co-efficients\n",
    "#print(\"Logistic.coef_:\", clf.coef_)\n",
    "#print(\"Logistic.intercept_:\", clf.intercept_)\n",
    "\n",
    "# Check test data set performance\n",
    "print(\"Logistic Performance-train: \", clf_cv.score(X_train,y_train))\n",
    "print(\"Logistic Performance-test: \", clf_cv.score(X_test,y_test))\n",
    "\n"
   ]
  },
  {
   "cell_type": "markdown",
   "metadata": {},
   "source": [
    "# k NEAREST NEIGHBOURS"
   ]
  },
  {
   "cell_type": "code",
   "execution_count": 27,
   "metadata": {
    "ExecuteTime": {
     "end_time": "2020-03-09T07:32:06.690269Z",
     "start_time": "2020-03-09T07:32:01.476567Z"
    },
    "colab": {
     "base_uri": "https://localhost:8080/",
     "height": 87
    },
    "colab_type": "code",
    "id": "rCr7-qgNIwLE",
    "outputId": "bba9ef9c-455e-498a-9546-4125eb92f6ab"
   },
   "outputs": [
    {
     "name": "stdout",
     "output_type": "stream",
     "text": [
      "Best Mean Cross-validation score: 0.7441\n",
      "\n",
      "KNN parameters:  {'algorithm': 'brute', 'leaf_size': 1, 'n_jobs': -1, 'n_neighbors': 3, 'p': 1}\n",
      "KNN Test Performance-train:  0.8639200998751561\n",
      "KNN Test Performance-test:  0.7555555555555555\n"
     ]
    }
   ],
   "source": [
    "# Train a KNN model, report the coefficients, the best parameters, and model performance \n",
    "# hint: find the optimal k\n",
    "\n",
    "# YOUR CODE HERE\n",
    "\n",
    "from sklearn.model_selection import GridSearchCV\n",
    "from sklearn.neighbors import KNeighborsClassifier\n",
    "\n",
    "knn = KNeighborsClassifier()\n",
    "\n",
    "# define a list of parameters\n",
    "\n",
    "param_knn = {'n_neighbors': range(1,10),'p':[1,10],'leaf_size':range(1,5),'algorithm':['brute'],'n_jobs':[-1]}\n",
    "\n",
    "#apply grid search\n",
    "grid_knn = GridSearchCV(knn, param_knn, cv=5, return_train_score=True)\n",
    "grid_knn.fit(X_train, y_train)\n",
    "\n",
    "# Mean Cross Validation Score\n",
    "print(\"Best Mean Cross-validation score: {:.4f}\".format(grid_knn.best_score_))\n",
    "print()\n",
    "\n",
    "#find best parameters \n",
    "print('KNN parameters: ', grid_knn.best_params_)\n",
    "\n",
    "# Check test data set performance\n",
    "print(\"KNN Test Performance-train: \", grid_knn.score(X_train,y_train))\n",
    "print(\"KNN Test Performance-test: \", grid_knn.score(X_test,y_test))"
   ]
  },
  {
   "cell_type": "markdown",
   "metadata": {},
   "source": [
    "# DECISION TREE CLASSIFICATION\n"
   ]
  },
  {
   "cell_type": "code",
   "execution_count": 28,
   "metadata": {
    "ExecuteTime": {
     "end_time": "2020-03-09T07:32:10.538012Z",
     "start_time": "2020-03-09T07:32:09.841119Z"
    },
    "colab": {
     "base_uri": "https://localhost:8080/",
     "height": 87
    },
    "colab_type": "code",
    "id": "xKqYmOM-IwLI",
    "outputId": "1a070f73-ed57-4837-cb5e-7ae601bb57ee"
   },
   "outputs": [
    {
     "name": "stdout",
     "output_type": "stream",
     "text": [
      "Best Mean Cross-validation score: 0.84\n",
      "\n",
      "Decision Tree parameters:  {'criterion': 'entropy', 'max_depth': 4, 'max_leaf_nodes': 7, 'splitter': 'random'}\n",
      "Decision Tree Train Performance:  0.8314606741573034\n",
      "Decision Tree  Test Performance:  0.8444444444444444\n"
     ]
    }
   ],
   "source": [
    "# Train a Decision Tree model, report the coefficients, the best parameters, and model performance (10 points)\n",
    "# hint: find the optimal max_depth\n",
    "\n",
    "# YOUR CODE HERE\n",
    "from sklearn.tree import DecisionTreeClassifier\n",
    "dtree = DecisionTreeClassifier(random_state=0)\n",
    "\n",
    "#define a list of parameters\n",
    "param_dtree = {'max_depth': range(1,20),'max_leaf_nodes':range(2,10),'criterion':['entropy'],'splitter':['random']}\n",
    "\n",
    "#apply grid search\n",
    "grid_dtree = GridSearchCV(dtree, param_dtree, cv=5, return_train_score = True)\n",
    "grid_dtree.fit(X_train, y_train)\n",
    "\n",
    "# Mean Cross Validation Score\n",
    "print(\"Best Mean Cross-validation score: {:.2f}\".format(grid_dtree.best_score_))\n",
    "print()\n",
    "\n",
    "#find best parameters\n",
    "print('Decision Tree parameters: ', grid_dtree.best_params_)\n",
    "\n",
    "\n",
    "# Check test data set performance\n",
    "print(\"Decision Tree Train Performance: \", grid_dtree.score(X_train,y_train))\n",
    "print(\"Decision Tree  Test Performance: \", grid_dtree.score(X_test,y_test))"
   ]
  },
  {
   "cell_type": "markdown",
   "metadata": {},
   "source": [
    "# SUPPORT VECTOR MACHINES "
   ]
  },
  {
   "cell_type": "code",
   "execution_count": 29,
   "metadata": {
    "colab": {},
    "colab_type": "code",
    "id": "6lxpr5qHIwLM"
   },
   "outputs": [],
   "source": [
    "from sklearn.svm import SVC\n",
    "from sklearn.model_selection import GridSearchCV"
   ]
  },
  {
   "cell_type": "code",
   "execution_count": 30,
   "metadata": {
    "colab": {
     "base_uri": "https://localhost:8080/",
     "height": 72
    },
    "colab_type": "code",
    "id": "YjvTlq7OIwLP",
    "outputId": "84fca801-6838-4361-ab59-8994fda5935c"
   },
   "outputs": [],
   "source": [
    "param_grid_rbf= [{'kernel': ['rbf'],'probability':[True],\n",
    "               'C': [0.001, 0.01, 0.1, 1, 10, 100],\n",
    "               'gamma': [0.001, 0.01, 0.1, 1, 10, 100]}]\n",
    "#param_grid_linear=[{'kernel': ['linear'],\n",
    "              # 'C': [0.001, 0.01, 0.1, 1, 10, 100]}]\n",
    "              \n",
    "param_grid_sig=[{'kernel': ['sigmoid'],'probability':[True],'gamma': np.logspace(-5,5,10)}]\n",
    "\n",
    "param_grid_poly=[{'kernel':['poly'],'probability':[True],\n",
    "               #'C':[0.001,0.01,0.1,0.25,0.5,1,10],\n",
    "               'degree':[1,2,3]}]\n",
    "               #'gamma':[0.1,1,2,5,10,50]}]\n",
    "    \n",
    "c=[ 0.1, 1, 10, 100]\n",
    "param_LinearSVC=[{'C': c }]\n",
    "\n",
    "#print(\"List of grids:\\n{}\".format(param_grid))"
   ]
  },
  {
   "cell_type": "markdown",
   "metadata": {},
   "source": [
    " ## SVM-RBF KERNEL"
   ]
  },
  {
   "cell_type": "code",
   "execution_count": 31,
   "metadata": {
    "colab": {},
    "colab_type": "code",
    "id": "UHz-39sWPC8s"
   },
   "outputs": [
    {
     "name": "stdout",
     "output_type": "stream",
     "text": [
      "train score:  0.8739076154806492\n",
      "test score:  0.8222222222222222\n",
      "Best parameters: {'C': 100, 'gamma': 0.001, 'kernel': 'rbf', 'probability': True}\n",
      "Best cross-validation score: 0.79\n"
     ]
    }
   ],
   "source": [
    "grid_search = GridSearchCV(SVC(), param_grid_rbf, cv=3,\n",
    "                          return_train_score=True)\n",
    "grid_search.fit(X_train, y_train)\n",
    "print('train score: ', grid_search.score(X_train, y_train))\n",
    "print('test score: ', grid_search.score(X_test, y_test))\n",
    "print(\"Best parameters: {}\".format(grid_search.best_params_))\n",
    "print(\"Best cross-validation score: {:.2f}\".format(grid_search.best_score_))"
   ]
  },
  {
   "cell_type": "markdown",
   "metadata": {},
   "source": [
    "## Linear SVC"
   ]
  },
  {
   "cell_type": "code",
   "execution_count": 32,
   "metadata": {
    "colab": {},
    "colab_type": "code",
    "id": "9nZn2d--QS9y"
   },
   "outputs": [
    {
     "name": "stdout",
     "output_type": "stream",
     "text": [
      "train score:  0.8252184769038702\n",
      "test score:  0.8333333333333334\n",
      "Best parameters: {'C': 0.1}\n",
      "Best cross-validation score: 0.82\n"
     ]
    }
   ],
   "source": [
    "from sklearn.svm import LinearSVC\n",
    "grid_search = GridSearchCV(SVC(kernel='linear',probability=True), param_LinearSVC, cv=3,\n",
    "                          return_train_score=True)\n",
    "grid_search.fit(X_train, y_train)\n",
    "print('train score: ', grid_search.score(X_train, y_train))\n",
    "print('test score: ', grid_search.score(X_test, y_test))\n",
    "print(\"Best parameters: {}\".format(grid_search.best_params_))\n",
    "print(\"Best cross-validation score: {:.2f}\".format(grid_search.best_score_))"
   ]
  },
  {
   "cell_type": "markdown",
   "metadata": {},
   "source": [
    "## SVM-SIGMOID KERNEL"
   ]
  },
  {
   "cell_type": "code",
   "execution_count": 33,
   "metadata": {},
   "outputs": [
    {
     "name": "stdout",
     "output_type": "stream",
     "text": [
      "train score:  0.6641697877652933\n",
      "test score:  0.6666666666666666\n",
      "Best parameters: {'gamma': 1e-05, 'kernel': 'sigmoid', 'probability': True}\n",
      "Best cross-validation score: 0.66\n"
     ]
    }
   ],
   "source": [
    "grid_search = GridSearchCV(SVC(),param_grid_sig, cv=10,\n",
    "                          return_train_score=True)\n",
    "grid_search.fit(X_train, y_train)\n",
    "print('train score: ', grid_search.score(X_train, y_train))\n",
    "print('test score: ', grid_search.score(X_test, y_test))\n",
    "print(\"Best parameters: {}\".format(grid_search.best_params_))\n",
    "\n",
    "print(\"Best cross-validation score: {:.2f}\".format(grid_search.best_score_))"
   ]
  },
  {
   "cell_type": "markdown",
   "metadata": {},
   "source": [
    "## SVM-POLYNOMIAL KERNEL"
   ]
  },
  {
   "cell_type": "code",
   "execution_count": 34,
   "metadata": {},
   "outputs": [
    {
     "name": "stdout",
     "output_type": "stream",
     "text": [
      "train score:  0.6754057428214731\n",
      "test score:  0.6777777777777778\n",
      "Best parameters: {'degree': 1, 'kernel': 'poly', 'probability': True}\n",
      "Best cross-validation score: 0.67\n"
     ]
    }
   ],
   "source": [
    "grid_search = GridSearchCV(SVC(), param_grid_poly, cv=3,\n",
    "                          return_train_score=True)\n",
    "grid_search.fit(X_train, y_train)\n",
    "print('train score: ', grid_search.score(X_train, y_train))\n",
    "print('test score: ', grid_search.score(X_test, y_test))\n",
    "print(\"Best parameters: {}\".format(grid_search.best_params_))\n",
    "print(\"Best cross-validation score: {:.2f}\".format(grid_search.best_score_))"
   ]
  },
  {
   "cell_type": "markdown",
   "metadata": {},
   "source": [
    "The best model from HW2 was Decision Tree Classifier.Hence I ran Bagging and pasting with just the Decision Tree Classifier"
   ]
  },
  {
   "cell_type": "markdown",
   "metadata": {},
   "source": [
    "# Bagging with Decision Tree Classifier"
   ]
  },
  {
   "cell_type": "code",
   "execution_count": 35,
   "metadata": {},
   "outputs": [
    {
     "name": "stdout",
     "output_type": "stream",
     "text": [
      "0.8444444444444444\n",
      "Best Mean Cross Validation Score is 0.8202406832298136\n",
      "Best Parameter is {'base_estimator__criterion': 'entropy', 'base_estimator__max_depth': 6, 'base_estimator__max_leaf_nodes': 9, 'base_estimator__splitter': 'random', 'n_estimators': 100}\n",
      "Train score is 0.846441947565543\n",
      "Test score is 0.8444444444444444\n"
     ]
    }
   ],
   "source": [
    "from sklearn.ensemble import BaggingClassifier\n",
    "from sklearn.metrics import mean_squared_error,r2_score\n",
    "\n",
    "from math import sqrt\n",
    "bag_dtree1 = BaggingClassifier(base_estimator=DecisionTreeClassifier(), bootstrap=True, random_state=0,oob_score=True)\n",
    "\n",
    "bag_dtree1_param = {\n",
    "                'base_estimator__max_depth': range(1,10),\n",
    "              'base_estimator__criterion' : [\"entropy\"],\n",
    "              'base_estimator__splitter' :   [\"random\"],\n",
    "              'base_estimator__max_leaf_nodes' :range(2,10),\n",
    "                 #'max_samples':  [0.8,1],\n",
    "                 'n_estimators': [10,25,100]\n",
    "}\n",
    "bag_dtree1_grid = GridSearchCV(bag_dtree1, bag_dtree1_param,cv=5, return_train_score=True, )\n",
    "bag_dtree1_grid.fit(X_train,y_train)\n",
    "print(bag_dtree1_grid.score(X_test,y_test))\n",
    "print(f'Best Mean Cross Validation Score is {bag_dtree1_grid.best_score_}')\n",
    "print(f'Best Parameter is {bag_dtree1_grid.best_params_}')\n",
    "print(f'Train score is {bag_dtree1_grid.score(X_train,y_train)}')\n",
    "print(f'Test score is {bag_dtree1_grid.score(X_test,y_test)}')\n",
    "X_train_preds = bag_dtree1_grid.predict(X_train)\n",
    "X_test_preds = bag_dtree1_grid.predict(X_test)\n",
    "\n"
   ]
  },
  {
   "cell_type": "markdown",
   "metadata": {},
   "source": [
    "# Pasting with Decision Tree Classifier:"
   ]
  },
  {
   "cell_type": "code",
   "execution_count": 36,
   "metadata": {},
   "outputs": [
    {
     "name": "stdout",
     "output_type": "stream",
     "text": [
      "0.8222222222222222\n",
      "Best Mean Cross Validation Score is 0.826468344774981\n",
      "Best Mean Cross Validation Score is {'base_estimator__max_depth': 4, 'n_estimators': 30}\n",
      "Train score is 0.8576779026217228\n",
      "Test score is 0.8222222222222222\n"
     ]
    }
   ],
   "source": [
    "paste_dtree2 = BaggingClassifier(base_estimator=DecisionTreeClassifier(), bootstrap=False, random_state=0, oob_score=False)\n",
    "\n",
    "\n",
    "paste_dtree2_param = {\n",
    "                 'base_estimator__max_depth': range(1,10),\n",
    "                 #'max_samples':  [0.8,1],\n",
    "                 'n_estimators': [10,30,70,50,100]\n",
    "}\n",
    "paste_dtree2_grid = GridSearchCV(paste_dtree2, paste_dtree2_param,cv=7, return_train_score=True, )\n",
    "paste_dtree2_grid.fit(X_train,y_train)\n",
    "X_train_tree = paste_dtree2_grid.predict(X_train)\n",
    "X_test_tree = paste_dtree2_grid.predict(X_test)\n",
    "\n",
    "\n",
    "\n",
    "print(paste_dtree2_grid.score(X_test,y_test))\n",
    "print(f'Best Mean Cross Validation Score is {paste_dtree2_grid.best_score_}')\n",
    "print(f'Best Mean Cross Validation Score is {paste_dtree2_grid.best_params_}')\n",
    "print(f'Train score is {paste_dtree2_grid.score(X_train,y_train)}')\n",
    "print(f'Test score is {paste_dtree2_grid.score(X_test,y_test)}')"
   ]
  },
  {
   "cell_type": "markdown",
   "metadata": {},
   "source": [
    "# Random Forest Classifier"
   ]
  },
  {
   "cell_type": "code",
   "execution_count": 37,
   "metadata": {},
   "outputs": [
    {
     "name": "stdout",
     "output_type": "stream",
     "text": [
      "Best Mean Cross Validation Score is 0.8402173913043478\n",
      "Best Mean Cross Validation Score is {'criterion': 'entropy', 'max_depth': 7, 'max_features': 'auto', 'n_estimators': 200}\n",
      "Train score is 0.8826466916354557\n",
      "Test score is 0.8222222222222222\n",
      "0.8222222222222222\n"
     ]
    }
   ],
   "source": [
    "from sklearn.ensemble import RandomForestClassifier\n",
    "rfc =RandomForestClassifier(random_state=42)\n",
    "rfc_param = { \n",
    "    'n_estimators': [100,200,300,500],\n",
    "    'max_features': ['auto','sqrt','log2'],\n",
    "    'max_depth' : [2,4,5,6,7,8,10],\n",
    "    'criterion' :['gini', 'entropy']\n",
    "}\n",
    "\n",
    "rfc_grid = GridSearchCV(rfc, rfc_param,cv=5, return_train_score=True, )\n",
    "rfc_grid.fit(X_train,y_train)\n",
    "X_train_rfc = rfc_grid.predict(X_train)\n",
    "X_test_rfc = rfc_grid.predict(X_test)\n",
    "\n",
    "\n",
    "print(f'Best Mean Cross Validation Score is {rfc_grid.best_score_}')\n",
    "print(f'Best Mean Cross Validation Score is {rfc_grid.best_params_}')\n",
    "print(f'Train score is {rfc_grid.score(X_train,y_train)}')\n",
    "print(f'Test score is {rfc_grid.score(X_test,y_test)}')\n",
    "\n",
    "print(rfc_grid.score(X_test,y_test))"
   ]
  },
  {
   "cell_type": "markdown",
   "metadata": {},
   "source": [
    "# Extra trees Classifier"
   ]
  },
  {
   "cell_type": "code",
   "execution_count": 38,
   "metadata": {},
   "outputs": [
    {
     "name": "stdout",
     "output_type": "stream",
     "text": [
      "Best Mean Cross Validation Score is 0.8314829192546584\n",
      "Best Mean Cross Validation Score is {'criterion': 'gini', 'max_depth': 8, 'max_features': 'auto', 'n_estimators': 500}\n",
      "Train score is 0.885143570536829\n",
      "Test score is 0.8333333333333334\n"
     ]
    }
   ],
   "source": [
    "from  sklearn.ensemble import ExtraTreesClassifier\n",
    "etc= ExtraTreesClassifier(random_state=42)\n",
    "etc_param = { \n",
    "    'n_estimators': [200, 500],\n",
    "    'max_features': ['auto', 'sqrt', 'log2'],\n",
    "    'max_depth' : [2,4,5,6,7,8],\n",
    "    'criterion' :['gini', 'entropy']\n",
    "}\n",
    "etc_grid = GridSearchCV(etc, etc_param,cv=5, return_train_score=True, )\n",
    "etc_grid.fit(X_train,y_train)\n",
    "X_train_etc = etc_grid.predict(X_train)\n",
    "X_test_etc = etc_grid.predict(X_test)\n",
    "\n",
    "print(f'Best Mean Cross Validation Score is {etc_grid.best_score_}')\n",
    "print(f'Best Mean Cross Validation Score is {etc_grid.best_params_}')\n",
    "print(f'Train score is {etc_grid.score(X_train,y_train)}')\n",
    "print(f'Test score is {etc_grid.score(X_test,y_test)}')"
   ]
  },
  {
   "cell_type": "markdown",
   "metadata": {},
   "source": [
    "# Ada Boost Classifier"
   ]
  },
  {
   "cell_type": "code",
   "execution_count": 39,
   "metadata": {},
   "outputs": [
    {
     "name": "stdout",
     "output_type": "stream",
     "text": [
      "Best Mean Cross Validation Score is 0.8377096273291926\n",
      "Best Mean Cross Validation Score is {'base_estimator__criterion': 'entropy', 'base_estimator__max_depth': 4, 'base_estimator__splitter': 'best', 'learning_rate': 0.01, 'n_estimators': 150}\n",
      "Train score is 0.9275905118601748\n",
      "Test score is 0.8222222222222222\n"
     ]
    }
   ],
   "source": [
    "from sklearn.ensemble import AdaBoostClassifier\n",
    "adc_dtree =AdaBoostClassifier(base_estimator=DecisionTreeClassifier(),random_state=42)\n",
    "adc_dtree_param = {\n",
    "              'base_estimator__criterion' : [\"gini\", \"entropy\"],\n",
    "              'base_estimator__splitter' :   [\"best\", \"random\"],\n",
    "              'base_estimator__max_depth' : [2,4,6],\n",
    "              'n_estimators' : [100,150],\n",
    "              'learning_rate': np.linspace(0.01,1,10),\n",
    "             }\n",
    "adc_dtree_grid = GridSearchCV(adc_dtree, adc_dtree_param,cv=5, return_train_score=True, )\n",
    "adc_dtree_grid.fit(X_train,y_train)\n",
    "X_train_adc = adc_dtree_grid.predict(X_train)\n",
    "X_test_adc = adc_dtree_grid.predict(X_test)\n",
    "\n",
    "# print('train mse: {}'.format(mean_squared_error(y_train, X_train_adc)))\n",
    "# print('train rmse: {}'.format(sqrt(mean_squared_error(y_train, X_train_adc))))\n",
    "# print('train r2: {}'.format(r2_score(y_train, X_train_adc)))\n",
    "# print()\n",
    "# print('test mse: {}'.format(mean_squared_error(y_test, X_test_adc)))\n",
    "# print('test rmse: {}'.format(sqrt(mean_squared_error(y_test, X_test_adc))))\n",
    "# print('test r2: {}'.format(r2_score(y_test, X_test_adc)))\n",
    "print(f'Best Mean Cross Validation Score is {adc_dtree_grid.best_score_}')\n",
    "print(f'Best Mean Cross Validation Score is {adc_dtree_grid.best_params_}')\n",
    "print(f'Train score is {adc_dtree_grid.score(X_train,y_train)}')\n",
    "print(f'Test score is {adc_dtree_grid.score(X_test,y_test)}')\n"
   ]
  },
  {
   "cell_type": "markdown",
   "metadata": {},
   "source": [
    "# Gradient Boosting Classifier"
   ]
  },
  {
   "cell_type": "code",
   "execution_count": 40,
   "metadata": {},
   "outputs": [
    {
     "name": "stdout",
     "output_type": "stream",
     "text": [
      "Best Mean Cross Validation Score is 0.8426940993788821\n",
      "Best Mean Cross Validation Score is {'learning_rate': 0.1, 'max_depth': 4, 'n_estimators': 100}\n",
      "Train score is 0.9400749063670412\n",
      "Test score is 0.7888888888888889\n"
     ]
    }
   ],
   "source": [
    "from  sklearn.ensemble import GradientBoostingClassifier\n",
    "gbc= GradientBoostingClassifier(random_state=42)\n",
    "gbc_param = {\n",
    "              'max_depth' : [2,3,4],\n",
    "              'n_estimators' : [100,150],\n",
    "              'learning_rate' : [0.1,0.5,1.0,2],\n",
    "             }\n",
    "gbc_grid = GridSearchCV(gbc, gbc_param,cv=5, return_train_score=True, )\n",
    "gbc_grid.fit(X_train,y_train)\n",
    "X_train_gbc = gbc_grid.predict(X_train)\n",
    "X_test_gbc = gbc_grid.predict(X_test)\n",
    "\n",
    "# print('train mse: {}'.format(mean_squared_error(y_train, X_train_gbc)))\n",
    "# print('train rmse: {}'.format(sqrt(mean_squared_error(y_train, X_train_gbc))))\n",
    "# print('train r2: {}'.format(r2_score(y_train, X_train_gbc)))\n",
    "# print()\n",
    "# print('test mse: {}'.format(mean_squared_error(y_test, X_test_gbc)))\n",
    "# print('test rmse: {}'.format(sqrt(mean_squared_error(y_test, X_test_gbc))))\n",
    "# print('test r2: {}'.format(r2_score(y_test, X_test_gbc)))\n",
    "print(f'Best Mean Cross Validation Score is {gbc_grid.best_score_}')\n",
    "print(f'Best Mean Cross Validation Score is {gbc_grid.best_params_}')\n",
    "print(f'Train score is {gbc_grid.score(X_train,y_train)}')\n",
    "print(f'Test score is {gbc_grid.score(X_test,y_test)}')\n"
   ]
  },
  {
   "cell_type": "code",
   "execution_count": 41,
   "metadata": {},
   "outputs": [
    {
     "name": "stdout",
     "output_type": "stream",
     "text": [
      "Requirement already satisfied: xgboost in c:\\users\\14695\\appdata\\local\\continuum\\anaconda3\\envs\\buan6341_2020\\lib\\site-packages (1.0.2)\n",
      "Requirement already satisfied: scipy in c:\\users\\14695\\appdata\\local\\continuum\\anaconda3\\envs\\buan6341_2020\\lib\\site-packages (from xgboost) (1.4.1)\n",
      "Requirement already satisfied: numpy in c:\\users\\14695\\appdata\\local\\continuum\\anaconda3\\envs\\buan6341_2020\\lib\\site-packages (from xgboost) (1.17.4)\n",
      "Note: you may need to restart the kernel to use updated packages.\n"
     ]
    }
   ],
   "source": [
    "pip install xgboost"
   ]
  },
  {
   "cell_type": "markdown",
   "metadata": {},
   "source": [
    "# XG Boosting Classifier"
   ]
  },
  {
   "cell_type": "code",
   "execution_count": 42,
   "metadata": {},
   "outputs": [
    {
     "name": "stdout",
     "output_type": "stream",
     "text": [
      "Best Mean Cross Validation Score is 0.8526708074534162\n",
      "Best Mean Cross Validation Score is {'learning_rate': 0.2, 'max_depth': 6, 'min_child_weight': 7, 'n_estimators': 50, 'subsample': 0.9}\n",
      "Train score is 0.885143570536829\n",
      "Test score is 0.8222222222222222\n"
     ]
    }
   ],
   "source": [
    "from  xgboost import XGBClassifier\n",
    "xgbc= XGBClassifier(random_state=42,early_stopping_rounds=2,objective= 'binary:logistic')\n",
    "xgbc_param = {\n",
    "              'max_depth' : [2,4,6,8],\n",
    "              'n_estimators' : [25,50,100,150],\n",
    "              'learning_rate' : [0.05,0.09,0.1,0.2,0.5],\n",
    "               'min_child_weight' : [1,3,5,7],\n",
    "               'subsample':[0.6,0.7,0.8,0.9,1]\n",
    "             }\n",
    "xgbc_grid = GridSearchCV(xgbc, xgbc_param,cv=5, return_train_score=True, )\n",
    "xgbc_grid.fit(X_train,y_train)\n",
    "X_train_xgbc = etc_grid.predict(X_train)\n",
    "X_test_xgbc = etc_grid.predict(X_test)\n",
    "\n",
    "# print('train mse: {}'.format(mean_squared_error(y_train, X_train_xgbc)))\n",
    "\n",
    "# print('train r2: {}'.format(r2_score(y_train, X_train_xgbc)))\n",
    "# print()\n",
    "# print('test mse: {}'.format(mean_squared_error(y_test, X_test_xgbc)))\n",
    "\n",
    "# print('test r2: {}'.format(r2_score(y_test, X_test_xgbc)))\n",
    "print(f'Best Mean Cross Validation Score is {xgbc_grid.best_score_}')\n",
    "print(f'Best Mean Cross Validation Score is {xgbc_grid.best_params_}')\n",
    "print(f'Train score is {xgbc_grid.score(X_train,y_train)}')\n",
    "print(f'Test score is {xgbc_grid.score(X_test,y_test)}')\n"
   ]
  },
  {
   "cell_type": "code",
   "execution_count": 75,
   "metadata": {},
   "outputs": [
    {
     "name": "stdout",
     "output_type": "stream",
     "text": [
      "train rmse: 0.3389047498386103\n",
      "test rmse: 0.408248290463863\n"
     ]
    }
   ],
   "source": [
    "print('train rmse: {}'.format(sqrt(mean_squared_error(y_train, X_train_xgbc))))\n",
    "print('test rmse: {}'.format(sqrt(mean_squared_error(y_test, X_test_xgbc))))"
   ]
  },
  {
   "cell_type": "code",
   "execution_count": 43,
   "metadata": {},
   "outputs": [],
   "source": [
    "classifiers={'knn':grid_knn ,\n",
    "             #'logreg':clf,\n",
    "             'dtree':grid_dtree,\n",
    "             'svm':grid_search,\n",
    "             #'dtree':dtree_grid,\n",
    "             'bag_dtree1':bag_dtree1_grid,\n",
    "             'paste_dtree1':paste_dtree2_grid,\n",
    "             'rfc': rfc_grid,\n",
    "             'etc': etc_grid,\n",
    "             'adc_dtree':adc_dtree_grid,\n",
    "             'gbc': gbc_grid,\n",
    "             'xgbc': xgbc_grid}"
   ]
  },
  {
   "cell_type": "code",
   "execution_count": 44,
   "metadata": {},
   "outputs": [
    {
     "data": {
      "text/plain": [
       "dict_keys(['knn', 'dtree', 'svm', 'bag_dtree1', 'paste_dtree1', 'rfc', 'etc', 'adc_dtree', 'gbc', 'xgbc'])"
      ]
     },
     "execution_count": 44,
     "metadata": {},
     "output_type": "execute_result"
    }
   ],
   "source": [
    "classifiers.keys()"
   ]
  },
  {
   "cell_type": "code",
   "execution_count": 45,
   "metadata": {},
   "outputs": [],
   "source": [
    "results_mean_std = []\n",
    "for  key, value in classifiers.items():\n",
    "    mean = value.cv_results_['mean_test_score'][value.best_index_]\n",
    "    std=value.cv_results_['std_test_score'][value.best_index_]\n",
    "     \n",
    "    results_mean_std.append({\n",
    "        \"model\": key,\n",
    "        \"mean\": mean,\n",
    "        \"std\": std\n",
    "    })"
   ]
  },
  {
   "cell_type": "code",
   "execution_count": 46,
   "metadata": {},
   "outputs": [],
   "source": [
    "accuracy_df = pd.DataFrame(results_mean_std, columns=['model', 'mean', 'std'])\n"
   ]
  },
  {
   "cell_type": "code",
   "execution_count": 47,
   "metadata": {},
   "outputs": [
    {
     "data": {
      "text/html": [
       "<div>\n",
       "<style scoped>\n",
       "    .dataframe tbody tr th:only-of-type {\n",
       "        vertical-align: middle;\n",
       "    }\n",
       "\n",
       "    .dataframe tbody tr th {\n",
       "        vertical-align: top;\n",
       "    }\n",
       "\n",
       "    .dataframe thead th {\n",
       "        text-align: right;\n",
       "    }\n",
       "</style>\n",
       "<table border=\"1\" class=\"dataframe\">\n",
       "  <thead>\n",
       "    <tr style=\"text-align: right;\">\n",
       "      <th></th>\n",
       "      <th>model</th>\n",
       "      <th>mean</th>\n",
       "      <th>std</th>\n",
       "    </tr>\n",
       "  </thead>\n",
       "  <tbody>\n",
       "    <tr>\n",
       "      <th>9</th>\n",
       "      <td>xgbc</td>\n",
       "      <td>0.852671</td>\n",
       "      <td>0.022647</td>\n",
       "    </tr>\n",
       "    <tr>\n",
       "      <th>8</th>\n",
       "      <td>gbc</td>\n",
       "      <td>0.842694</td>\n",
       "      <td>0.016028</td>\n",
       "    </tr>\n",
       "    <tr>\n",
       "      <th>5</th>\n",
       "      <td>rfc</td>\n",
       "      <td>0.840217</td>\n",
       "      <td>0.017764</td>\n",
       "    </tr>\n",
       "    <tr>\n",
       "      <th>7</th>\n",
       "      <td>adc_dtree</td>\n",
       "      <td>0.837710</td>\n",
       "      <td>0.020858</td>\n",
       "    </tr>\n",
       "    <tr>\n",
       "      <th>1</th>\n",
       "      <td>dtree</td>\n",
       "      <td>0.836483</td>\n",
       "      <td>0.024908</td>\n",
       "    </tr>\n",
       "    <tr>\n",
       "      <th>6</th>\n",
       "      <td>etc</td>\n",
       "      <td>0.831483</td>\n",
       "      <td>0.020331</td>\n",
       "    </tr>\n",
       "    <tr>\n",
       "      <th>4</th>\n",
       "      <td>paste_dtree1</td>\n",
       "      <td>0.826468</td>\n",
       "      <td>0.025792</td>\n",
       "    </tr>\n",
       "    <tr>\n",
       "      <th>3</th>\n",
       "      <td>bag_dtree1</td>\n",
       "      <td>0.820241</td>\n",
       "      <td>0.022005</td>\n",
       "    </tr>\n",
       "    <tr>\n",
       "      <th>0</th>\n",
       "      <td>knn</td>\n",
       "      <td>0.744084</td>\n",
       "      <td>0.028365</td>\n",
       "    </tr>\n",
       "    <tr>\n",
       "      <th>2</th>\n",
       "      <td>svm</td>\n",
       "      <td>0.674157</td>\n",
       "      <td>0.006116</td>\n",
       "    </tr>\n",
       "  </tbody>\n",
       "</table>\n",
       "</div>"
      ],
      "text/plain": [
       "          model      mean       std\n",
       "9          xgbc  0.852671  0.022647\n",
       "8           gbc  0.842694  0.016028\n",
       "5           rfc  0.840217  0.017764\n",
       "7     adc_dtree  0.837710  0.020858\n",
       "1         dtree  0.836483  0.024908\n",
       "6           etc  0.831483  0.020331\n",
       "4  paste_dtree1  0.826468  0.025792\n",
       "3    bag_dtree1  0.820241  0.022005\n",
       "0           knn  0.744084  0.028365\n",
       "2           svm  0.674157  0.006116"
      ]
     },
     "execution_count": 47,
     "metadata": {},
     "output_type": "execute_result"
    }
   ],
   "source": [
    "accuracy_df.sort_values(by=['mean'], inplace=True,ascending=False)\n",
    "accuracy_df"
   ]
  },
  {
   "cell_type": "code",
   "execution_count": 48,
   "metadata": {},
   "outputs": [],
   "source": [
    "predictions_all = {}\n",
    "for  key, value in classifiers.items():\n",
    "    # Get best estimator\n",
    "    best_model = value.best_estimator_\n",
    "    \n",
    "    # Predict test labels\n",
    "    predictions = best_model.predict(X_test)\n",
    "    \n",
    "    # Save predictions to a list\n",
    "    predictions_all[key] = predictions"
   ]
  },
  {
   "cell_type": "code",
   "execution_count": 49,
   "metadata": {},
   "outputs": [],
   "source": [
    "pred = pd.DataFrame(predictions_all)"
   ]
  },
  {
   "cell_type": "code",
   "execution_count": 50,
   "metadata": {},
   "outputs": [
    {
     "data": {
      "text/plain": [
       "Text(0.5, 1, 'Correlation of the test set label prediction between models')"
      ]
     },
     "execution_count": 50,
     "metadata": {},
     "output_type": "execute_result"
    },
    {
     "data": {
      "image/png": "[encoded data removed]",
      "text/plain": [
       "<Figure size 648x432 with 2 Axes>"
      ]
     },
     "metadata": {
      "needs_background": "light"
     },
     "output_type": "display_data"
    }
   ],
   "source": [
    "fig, ax = plt.subplots(nrows=1, ncols=1, figsize=(9,6))\n",
    "g = sns.heatmap(pred.corr(), annot=True, cmap='coolwarm', ax=ax)\n",
    "g.set_title('Correlation of the test set label prediction between models')"
   ]
  },
  {
   "cell_type": "code",
   "execution_count": 51,
   "metadata": {},
   "outputs": [],
   "source": [
    "def get_redundant_pairs(df):\n",
    "    '''Get diagonal and lower triangular pairs of correlation matrix'''\n",
    "    pairs_to_drop = set()\n",
    "    cols = df.columns\n",
    "    for i in range(0, df.shape[1]):\n",
    "        for j in range(0, i+1):\n",
    "            pairs_to_drop.add((cols[i], cols[j]))\n",
    "    return pairs_to_drop\n",
    "\n",
    "def get_top_abs_correlations(df, n=5):\n",
    "    au_corr = df.corr().abs().unstack()\n",
    "    labels_to_drop = get_redundant_pairs(df)\n",
    "    au_corr = au_corr.drop(labels=labels_to_drop).sort_values(ascending=True)\n",
    "    return au_corr[0:n]\n",
    "\n"
   ]
  },
  {
   "cell_type": "code",
   "execution_count": 78,
   "metadata": {},
   "outputs": [
    {
     "name": "stdout",
     "output_type": "stream",
     "text": [
      "Least Absolute Correlations\n",
      "svm    etc             0.126046\n",
      "dtree  svm             0.138343\n",
      "svm    rfc             0.138343\n",
      "       bag_dtree1      0.138343\n",
      "       paste_dtree1    0.163678\n",
      "dtype: float64\n"
     ]
    }
   ],
   "source": [
    "print(\"Least Absolute Correlations\")\n",
    "print(get_top_abs_correlations(pred, 5))"
   ]
  },
  {
   "cell_type": "markdown",
   "metadata": {},
   "source": [
    "# Voting Classifier- Top 5 models"
   ]
  },
  {
   "cell_type": "code",
   "execution_count": 53,
   "metadata": {},
   "outputs": [],
   "source": [
    "from sklearn.ensemble import VotingClassifier"
   ]
  },
  {
   "cell_type": "code",
   "execution_count": 54,
   "metadata": {},
   "outputs": [
    {
     "name": "stdout",
     "output_type": "stream",
     "text": [
      "Best Mean Cross Validation Score is 0.8502018633540374\n",
      "Best Mean Cross Validation Score is {'voting': 'hard'}\n",
      "Train score is 0.9038701622971286\n",
      "Test score is 0.8333333333333334\n"
     ]
    }
   ],
   "source": [
    "vclf1 = VotingClassifier(estimators=\n",
    "                              [('xgbc', xgbc_grid.best_estimator_), \n",
    "                                ('rfc', rfc_grid.best_estimator_), \n",
    "                               ('gbc', gbc_grid.best_estimator_),\n",
    "                               ('adc_dtree',adc_dtree_grid.best_estimator_),\n",
    "                               ('dtree', grid_dtree.best_estimator_)\n",
    "                              ], )\n",
    "vclf1_param = {\n",
    "              'voting' : ['hard','soft'],\n",
    "             }\n",
    "vclf1_grid = GridSearchCV(vclf1, vclf1_param,cv=5, return_train_score=True, )\n",
    "vclf1_grid.fit(X_train,y_train)\n",
    "\n",
    "X_test_preds = vclf1_grid.predict(X_test)\n",
    "\n",
    "print(f'Best Mean Cross Validation Score is {vclf1_grid.best_score_}')\n",
    "print(f'Best Mean Cross Validation Score is {vclf1_grid.best_params_}')\n",
    "print(f'Train score is {vclf1_grid.score(X_train,y_train)}')\n",
    "print(f'Test score is {vclf1_grid.score(X_test,y_test)}')\n",
    "#print(f'Val score is {vclf1_grid.score(X_test,y_test)}')"
   ]
  },
  {
   "cell_type": "markdown",
   "metadata": {},
   "source": [
    "On running the above model excluding random forest and Gradient Boosting, better score is obtained"
   ]
  },
  {
   "cell_type": "code",
   "execution_count": 76,
   "metadata": {},
   "outputs": [
    {
     "name": "stdout",
     "output_type": "stream",
     "text": [
      "Best Mean Cross Validation Score is 0.8489518633540374\n",
      "Best Mean Cross Validation Score is {'voting': 'hard'}\n",
      "Train score is 0.8926342072409488\n",
      "Test score is 0.8555555555555555\n"
     ]
    }
   ],
   "source": [
    "vclf1 = VotingClassifier(estimators=\n",
    "                              [('xgbc', xgbc_grid.best_estimator_), \n",
    "                                #('rfc', rfc_grid.best_estimator_), \n",
    "                               #('gbc', gbc_grid.best_estimator_),\n",
    "                               ('adc_dtree',adc_dtree_grid.best_estimator_),\n",
    "                               ('dtree', grid_dtree.best_estimator_)\n",
    "                              ], )\n",
    "vclf1_param = {\n",
    "              'voting' : ['hard','soft'],\n",
    "             }\n",
    "vclf1_grid = GridSearchCV(vclf1, vclf1_param,cv=5, return_train_score=True, )\n",
    "vclf1_grid.fit(X_train,y_train)\n",
    "X_train_preds = vclf1_grid.predict(X_train)\n",
    "X_test_preds = vclf1_grid.predict(X_test)\n",
    "\n",
    "print(f'Best Mean Cross Validation Score is {vclf1_grid.best_score_}')\n",
    "print(f'Best Mean Cross Validation Score is {vclf1_grid.best_params_}')\n",
    "print(f'Train score is {vclf1_grid.score(X_train,y_train)}')\n",
    "print(f'Test score is {vclf1_grid.score(X_test,y_test)}')\n",
    "#print(f'Val score is {vclf1_grid.score(X_test,y_test)}')"
   ]
  },
  {
   "cell_type": "code",
   "execution_count": 77,
   "metadata": {},
   "outputs": [
    {
     "name": "stdout",
     "output_type": "stream",
     "text": [
      "train rmse: 0.3276671981737738\n",
      "test rmse: 0.38005847503304596\n"
     ]
    }
   ],
   "source": [
    "print('train rmse: {}'.format(sqrt(mean_squared_error(y_train, X_train_preds))))\n",
    "print('test rmse: {}'.format(sqrt(mean_squared_error(y_test, X_test_preds))))"
   ]
  },
  {
   "cell_type": "markdown",
   "metadata": {},
   "source": [
    "# Voting Classifier- Least Correlated"
   ]
  },
  {
   "cell_type": "code",
   "execution_count": 56,
   "metadata": {},
   "outputs": [
    {
     "name": "stdout",
     "output_type": "stream",
     "text": [
      "Best Mean Cross Validation Score is 0.8302329192546584\n",
      "Best Mean Cross Validation Score is {'voting': 'hard'}\n",
      "Train score is 0.8689138576779026\n",
      "Test score is 0.8333333333333334\n"
     ]
    }
   ],
   "source": [
    "vclf3 = VotingClassifier(estimators=\n",
    "                              [\n",
    "                               ('etc', etc_grid.best_estimator_), \n",
    "                               ('rfc', rfc_grid.best_estimator_),\n",
    "                               ('svm', grid_search.best_estimator_),\n",
    "                               ('dtree', grid_dtree.best_estimator_),\n",
    "                              ], )\n",
    "vclf3_param = {\n",
    "              'voting' : ['hard','soft'],\n",
    "             }\n",
    "vclf3_grid = GridSearchCV(vclf3, vclf3_param,cv=5, return_train_score=True, )\n",
    "vclf3_grid.fit(X_train,y_train)\n",
    "print(f'Best Mean Cross Validation Score is {vclf3_grid.best_score_}')\n",
    "print(f'Best Mean Cross Validation Score is {vclf3_grid.best_params_}')\n",
    "print(f'Train score is {vclf3_grid.score(X_train,y_train)}')\n",
    "print(f'Test score is {vclf3_grid.score(X_test,y_test)}')\n",
    "#print(f'Val score is {vclf3_grid.score(X_val,y_val)}')"
   ]
  },
  {
   "cell_type": "code",
   "execution_count": 58,
   "metadata": {},
   "outputs": [
    {
     "name": "stdout",
     "output_type": "stream",
     "text": [
      "Best Mean Cross Validation Score is 0.8302329192546584\n",
      "Best Mean Cross Validation Score is {'voting': 'hard'}\n",
      "Train score is 0.8689138576779026\n",
      "Test score is 0.8333333333333334\n"
     ]
    }
   ],
   "source": [
    "vclf3 = VotingClassifier(estimators=\n",
    "                              [ \n",
    "                               ('etc', etc_grid.best_estimator_), \n",
    "                               ('rfc', rfc_grid.best_estimator_),\n",
    "                               ('svm', grid_search.best_estimator_),\n",
    "                               ('dtree', grid_dtree.best_estimator_),\n",
    "                              ], )\n",
    "vclf3_param = {\n",
    "              'voting' : ['hard','soft'],\n",
    "             }\n",
    "vclf3_grid = GridSearchCV(vclf3, vclf3_param,cv=5, return_train_score=True, )\n",
    "vclf3_grid.fit(X_train,y_train)\n",
    "print(f'Best Mean Cross Validation Score is {vclf3_grid.best_score_}')\n",
    "print(f'Best Mean Cross Validation Score is {vclf3_grid.best_params_}')\n",
    "print(f'Train score is {vclf3_grid.score(X_train,y_train)}')\n",
    "print(f'Test score is {vclf3_grid.score(X_test,y_test)}')\n",
    "#print(f'Val score is {vclf3_grid.score(X_val,y_val)}')"
   ]
  },
  {
   "cell_type": "markdown",
   "metadata": {},
   "source": [
    "# Stacking Classifier-Top 5 Models"
   ]
  },
  {
   "cell_type": "code",
   "execution_count": 59,
   "metadata": {},
   "outputs": [],
   "source": [
    "from sklearn.ensemble import StackingClassifier"
   ]
  },
  {
   "cell_type": "code",
   "execution_count": 74,
   "metadata": {},
   "outputs": [
    {
     "name": "stdout",
     "output_type": "stream",
     "text": [
      "Best Mean Cross Validation Score is 0.8314596273291925\n",
      "Best Mean Cross Validation Score is {'final_estimator__criterion': 'gini', 'final_estimator__max_depth': 2, 'final_estimator__splitter': 'random'}\n",
      "Train score is 0.8664169787765293\n",
      "Test score is 0.7777777777777778\n"
     ]
    }
   ],
   "source": [
    "sclf1 = StackingClassifier(estimators=\n",
    "                              [('xgbc', xgbc_grid.best_estimator_), \n",
    "                                ('rfc', rfc_grid.best_estimator_), \n",
    "                               ('gbc', gbc_grid.best_estimator_),\n",
    "                               ('adc_dtree',adc_dtree_grid.best_estimator_),\n",
    "                               ('dtree', grid_dtree.best_estimator_)\n",
    "                              ], final_estimator=DecisionTreeClassifier())\n",
    "sclf1_param = {\n",
    "              'final_estimator__criterion' : [\"gini\", \"entropy\"],\n",
    "              'final_estimator__splitter' :   [\"best\", \"random\"],\n",
    "                 'final_estimator__max_depth' : [2,4,6],\n",
    "\n",
    "              }\n",
    "sclf1_grid = GridSearchCV(sclf1, sclf1_param,cv=5, return_train_score=True, )\n",
    "sclf1_grid.fit(X_train,y_train)\n",
    "print(f'Best Mean Cross Validation Score is {sclf1_grid.best_score_}')\n",
    "print(f'Best Mean Cross Validation Score is {sclf1_grid.best_params_}')\n",
    "print(f'Train score is {sclf1_grid.score(X_train,y_train)}')\n",
    "print(f'Test score is {sclf1_grid.score(X_test,y_test)}')\n",
    "#print(f'Val score is {sclf1_grid.score(X_val,y_val)}')"
   ]
  },
  {
   "cell_type": "markdown",
   "metadata": {},
   "source": [
    "On running the above model excluding random forest and gradient boosting, better score is obtained"
   ]
  },
  {
   "cell_type": "code",
   "execution_count": 71,
   "metadata": {},
   "outputs": [
    {
     "name": "stdout",
     "output_type": "stream",
     "text": [
      "Best Mean Cross Validation Score is 0.8427018633540373\n",
      "Best Mean Cross Validation Score is {'final_estimator__criterion': 'gini', 'final_estimator__max_depth': 2, 'final_estimator__splitter': 'best'}\n",
      "Train score is 0.8863920099875156\n",
      "Test score is 0.8222222222222222\n"
     ]
    }
   ],
   "source": [
    "sclf1 = StackingClassifier(estimators=\n",
    "                              [('xgbc', xgbc_grid.best_estimator_), \n",
    "                                #('rfc', rfc_grid.best_estimator_), \n",
    "                               #('gbc', gbc_grid.best_estimator_),\n",
    "                               ('adc_dtree',adc_dtree_grid.best_estimator_),\n",
    "                               ('dtree', grid_dtree.best_estimator_)\n",
    "                              ], final_estimator=DecisionTreeClassifier())\n",
    "sclf1_param = {\n",
    "              'final_estimator__criterion' : [\"gini\", \"entropy\"],\n",
    "               'final_estimator__splitter' :   [\"best\", \"random\"],\n",
    "                'final_estimator__max_depth' : [2,4,6],\n",
    "\n",
    "              }\n",
    "sclf1_grid = GridSearchCV(sclf1, sclf1_param,cv=5, return_train_score=True, )\n",
    "sclf1_grid.fit(X_train,y_train)\n",
    "print(f'Best Mean Cross Validation Score is {sclf1_grid.best_score_}')\n",
    "print(f'Best Mean Cross Validation Score is {sclf1_grid.best_params_}')\n",
    "print(f'Train score is {sclf1_grid.score(X_train,y_train)}')\n",
    "print(f'Test score is {sclf1_grid.score(X_test,y_test)}')\n",
    "#print(f'Val score is {sclf1_grid.score(X_val,y_val)}')\n",
    "\n"
   ]
  },
  {
   "cell_type": "markdown",
   "metadata": {},
   "source": [
    "# Stacking Classifier-Least Correlated"
   ]
  },
  {
   "cell_type": "code",
   "execution_count": 72,
   "metadata": {},
   "outputs": [
    {
     "name": "stdout",
     "output_type": "stream",
     "text": [
      "Best Mean Cross Validation Score is 0.8289829192546584\n",
      "Best Mean Cross Validation Score is {'final_estimator__max_depth': 2, 'final_estimator__n_estimators': 500}\n",
      "Train score is 0.867665418227216\n",
      "Test score is 0.8555555555555555\n"
     ]
    }
   ],
   "source": [
    "sclf2 = StackingClassifier(estimators=\n",
    "                              [ ('etc', etc_grid.best_estimator_), \n",
    "                               ('rfc', rfc_grid.best_estimator_),\n",
    "                               ('paste_dtree1', paste_dtree2_grid.best_estimator_),\n",
    "                               ('bag_dtree1', bag_dtree1_grid.best_estimator_),\n",
    "                                                             ], \n",
    "                           final_estimator=ExtraTreesClassifier())\n",
    "sclf2_param = {\n",
    "              'final_estimator__max_depth' : [2,4,5,6,7,8],\n",
    "               'final_estimator__n_estimators' : [200,500],\n",
    "               #'final_estimator__max_features': ['auto', 'sqrt', 'log2'],\n",
    "               #'final_estimator__criterion' :['gini', 'entropy'],\n",
    "              \n",
    "             }\n",
    "sclf2_grid = GridSearchCV(sclf2, sclf2_param,cv=5, return_train_score=True, )\n",
    "sclf2_grid.fit(X_train,y_train)\n",
    "print(f'Best Mean Cross Validation Score is {sclf2_grid.best_score_}')\n",
    "print(f'Best Mean Cross Validation Score is {sclf2_grid.best_params_}')\n",
    "print(f'Train score is {sclf2_grid.score(X_train,y_train)}')\n",
    "print(f'Test score is {sclf2_grid.score(X_test,y_test)}')\n",
    "#print(f'Val score is {sclf2_grid.score(X_val,y_val)}')\n",
    "\n",
    "\n",
    "# 'n_estimators': [200, 500],\n",
    "#     ,\n",
    "#     'max_depth' : [2,4,5,6,7,8],\n",
    "#     'criterion' :['gini', 'entropy']\n"
   ]
  },
  {
   "cell_type": "code",
   "execution_count": null,
   "metadata": {},
   "outputs": [],
   "source": []
  }
 ],
 "metadata": {
  "colab": {
   "name": "Practice-HW2-Classification.ipynb",
   "provenance": []
  },
  "kernelspec": {
   "display_name": "buan6341_2020",
   "language": "python",
   "name": "buan6341_2020"
  },
  "language_info": {
   "codemirror_mode": {
    "name": "ipython",
    "version": 3
   },
   "file_extension": ".py",
   "mimetype": "text/x-python",
   "name": "python",
   "nbconvert_exporter": "python",
   "pygments_lexer": "ipython3",
   "version": "3.7.6"
  },
  "toc": {
   "base_numbering": 1,
   "nav_menu": {},
   "number_sections": true,
   "sideBar": true,
   "skip_h1_title": false,
   "title_cell": "Table of Contents",
   "title_sidebar": "Contents",
   "toc_cell": false,
   "toc_position": {},
   "toc_section_display": true,
   "toc_window_display": false
  },
  "varInspector": {
   "cols": {
    "lenName": 16,
    "lenType": 16,
    "lenVar": 40
   },
   "kernels_config": {
    "python": {
     "delete_cmd_postfix": "",
     "delete_cmd_prefix": "del ",
     "library": "var_list.py",
     "varRefreshCmd": "print(var_dic_list())"
    },
    "r": {
     "delete_cmd_postfix": ") ",
     "delete_cmd_prefix": "rm(",
     "library": "var_list.r",
     "varRefreshCmd": "cat(var_dic_list()) "
    }
   },
   "types_to_exclude": [
    "module",
    "function",
    "builtin_function_or_method",
    "instance",
    "_Feature"
   ],
   "window_display": true
  }
 },
 "nbformat": 4,
 "nbformat_minor": 1
}
